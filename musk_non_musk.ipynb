{
  "nbformat": 4,
  "nbformat_minor": 0,
  "metadata": {
    "colab": {
      "name": "musk_non-musk.ipynb",
      "provenance": [],
      "mount_file_id": "1t3W103cZay25p3u5gqF4F4XuRod8FbI3",
      "authorship_tag": "ABX9TyPArYhJMdk1G826f2wTXJt3"
    },
    "kernelspec": {
      "name": "python3",
      "display_name": "Python 3"
    }
  },
  "cells": [
    {
      "cell_type": "code",
      "metadata": {
        "id": "qsPvZTdIsgmG"
      },
      "source": [
        "import os"
      ],
      "execution_count": 1,
      "outputs": []
    },
    {
      "cell_type": "code",
      "metadata": {
        "id": "gknmVkUesyz4"
      },
      "source": [
        "os.chdir('/content/drive/MyDrive/Musk Non-musk')"
      ],
      "execution_count": 2,
      "outputs": []
    },
    {
      "cell_type": "code",
      "metadata": {
        "colab": {
          "base_uri": "https://localhost:8080/"
        },
        "id": "J40Dc9uzs_Wm",
        "outputId": "391cb502-d970-4955-824b-d78108f160fa"
      },
      "source": [
        "!ls"
      ],
      "execution_count": 5,
      "outputs": [
        {
          "output_type": "stream",
          "text": [
            "musk_csv.csv  musk_non-musk.ipynb\n"
          ],
          "name": "stdout"
        }
      ]
    },
    {
      "cell_type": "code",
      "metadata": {
        "id": "LkJfVnl1tAw4"
      },
      "source": [
        "import numpy as np\r\n",
        "import pandas as pd\r\n",
        "import matplotlib.pyplot as plt\r\n",
        "import sklearn\r\n"
      ],
      "execution_count": 6,
      "outputs": []
    },
    {
      "cell_type": "code",
      "metadata": {
        "id": "NWj8nHJJt3lR"
      },
      "source": [
        "data = pd.read_csv(\"musk_csv.csv\")"
      ],
      "execution_count": 7,
      "outputs": []
    },
    {
      "cell_type": "code",
      "metadata": {
        "colab": {
          "base_uri": "https://localhost:8080/",
          "height": 253
        },
        "id": "qdVB0ha7uEoW",
        "outputId": "1445ce01-ad70-4a0f-f8f5-a0b227be9b26"
      },
      "source": [
        "data.head(5)"
      ],
      "execution_count": 8,
      "outputs": [
        {
          "output_type": "execute_result",
          "data": {
            "text/html": [
              "<div>\n",
              "<style scoped>\n",
              "    .dataframe tbody tr th:only-of-type {\n",
              "        vertical-align: middle;\n",
              "    }\n",
              "\n",
              "    .dataframe tbody tr th {\n",
              "        vertical-align: top;\n",
              "    }\n",
              "\n",
              "    .dataframe thead th {\n",
              "        text-align: right;\n",
              "    }\n",
              "</style>\n",
              "<table border=\"1\" class=\"dataframe\">\n",
              "  <thead>\n",
              "    <tr style=\"text-align: right;\">\n",
              "      <th></th>\n",
              "      <th>ID</th>\n",
              "      <th>molecule_name</th>\n",
              "      <th>conformation_name</th>\n",
              "      <th>f1</th>\n",
              "      <th>f2</th>\n",
              "      <th>f3</th>\n",
              "      <th>f4</th>\n",
              "      <th>f5</th>\n",
              "      <th>f6</th>\n",
              "      <th>f7</th>\n",
              "      <th>f8</th>\n",
              "      <th>f9</th>\n",
              "      <th>f10</th>\n",
              "      <th>f11</th>\n",
              "      <th>f12</th>\n",
              "      <th>f13</th>\n",
              "      <th>f14</th>\n",
              "      <th>f15</th>\n",
              "      <th>f16</th>\n",
              "      <th>f17</th>\n",
              "      <th>f18</th>\n",
              "      <th>f19</th>\n",
              "      <th>f20</th>\n",
              "      <th>f21</th>\n",
              "      <th>f22</th>\n",
              "      <th>f23</th>\n",
              "      <th>f24</th>\n",
              "      <th>f25</th>\n",
              "      <th>f26</th>\n",
              "      <th>f27</th>\n",
              "      <th>f28</th>\n",
              "      <th>f29</th>\n",
              "      <th>f30</th>\n",
              "      <th>f31</th>\n",
              "      <th>f32</th>\n",
              "      <th>f33</th>\n",
              "      <th>f34</th>\n",
              "      <th>f35</th>\n",
              "      <th>f36</th>\n",
              "      <th>f37</th>\n",
              "      <th>...</th>\n",
              "      <th>f128</th>\n",
              "      <th>f129</th>\n",
              "      <th>f130</th>\n",
              "      <th>f131</th>\n",
              "      <th>f132</th>\n",
              "      <th>f133</th>\n",
              "      <th>f134</th>\n",
              "      <th>f135</th>\n",
              "      <th>f136</th>\n",
              "      <th>f137</th>\n",
              "      <th>f138</th>\n",
              "      <th>f139</th>\n",
              "      <th>f140</th>\n",
              "      <th>f141</th>\n",
              "      <th>f142</th>\n",
              "      <th>f143</th>\n",
              "      <th>f144</th>\n",
              "      <th>f145</th>\n",
              "      <th>f146</th>\n",
              "      <th>f147</th>\n",
              "      <th>f148</th>\n",
              "      <th>f149</th>\n",
              "      <th>f150</th>\n",
              "      <th>f151</th>\n",
              "      <th>f152</th>\n",
              "      <th>f153</th>\n",
              "      <th>f154</th>\n",
              "      <th>f155</th>\n",
              "      <th>f156</th>\n",
              "      <th>f157</th>\n",
              "      <th>f158</th>\n",
              "      <th>f159</th>\n",
              "      <th>f160</th>\n",
              "      <th>f161</th>\n",
              "      <th>f162</th>\n",
              "      <th>f163</th>\n",
              "      <th>f164</th>\n",
              "      <th>f165</th>\n",
              "      <th>f166</th>\n",
              "      <th>class</th>\n",
              "    </tr>\n",
              "  </thead>\n",
              "  <tbody>\n",
              "    <tr>\n",
              "      <th>0</th>\n",
              "      <td>1</td>\n",
              "      <td>MUSK-211</td>\n",
              "      <td>211_1+1</td>\n",
              "      <td>46</td>\n",
              "      <td>-108</td>\n",
              "      <td>-60</td>\n",
              "      <td>-69</td>\n",
              "      <td>-117</td>\n",
              "      <td>49</td>\n",
              "      <td>38</td>\n",
              "      <td>-161</td>\n",
              "      <td>-8</td>\n",
              "      <td>5</td>\n",
              "      <td>-323</td>\n",
              "      <td>-220</td>\n",
              "      <td>-113</td>\n",
              "      <td>-299</td>\n",
              "      <td>-283</td>\n",
              "      <td>-307</td>\n",
              "      <td>-31</td>\n",
              "      <td>-106</td>\n",
              "      <td>-227</td>\n",
              "      <td>-42</td>\n",
              "      <td>-59</td>\n",
              "      <td>-22</td>\n",
              "      <td>-67</td>\n",
              "      <td>189</td>\n",
              "      <td>81</td>\n",
              "      <td>17</td>\n",
              "      <td>-27</td>\n",
              "      <td>-89</td>\n",
              "      <td>-67</td>\n",
              "      <td>105</td>\n",
              "      <td>-116</td>\n",
              "      <td>124</td>\n",
              "      <td>-106</td>\n",
              "      <td>5</td>\n",
              "      <td>-120</td>\n",
              "      <td>63</td>\n",
              "      <td>-165</td>\n",
              "      <td>...</td>\n",
              "      <td>81</td>\n",
              "      <td>-114</td>\n",
              "      <td>-187</td>\n",
              "      <td>45</td>\n",
              "      <td>-118</td>\n",
              "      <td>-75</td>\n",
              "      <td>-182</td>\n",
              "      <td>-234</td>\n",
              "      <td>-19</td>\n",
              "      <td>12</td>\n",
              "      <td>-13</td>\n",
              "      <td>-41</td>\n",
              "      <td>-119</td>\n",
              "      <td>-149</td>\n",
              "      <td>70</td>\n",
              "      <td>17</td>\n",
              "      <td>-20</td>\n",
              "      <td>-177</td>\n",
              "      <td>-101</td>\n",
              "      <td>-116</td>\n",
              "      <td>-14</td>\n",
              "      <td>-50</td>\n",
              "      <td>24</td>\n",
              "      <td>-81</td>\n",
              "      <td>-125</td>\n",
              "      <td>-114</td>\n",
              "      <td>-44</td>\n",
              "      <td>128</td>\n",
              "      <td>3</td>\n",
              "      <td>-244</td>\n",
              "      <td>-308</td>\n",
              "      <td>52</td>\n",
              "      <td>-7</td>\n",
              "      <td>39</td>\n",
              "      <td>126</td>\n",
              "      <td>156</td>\n",
              "      <td>-50</td>\n",
              "      <td>-112</td>\n",
              "      <td>96</td>\n",
              "      <td>1</td>\n",
              "    </tr>\n",
              "    <tr>\n",
              "      <th>1</th>\n",
              "      <td>2</td>\n",
              "      <td>MUSK-211</td>\n",
              "      <td>211_1+10</td>\n",
              "      <td>41</td>\n",
              "      <td>-188</td>\n",
              "      <td>-145</td>\n",
              "      <td>22</td>\n",
              "      <td>-117</td>\n",
              "      <td>-6</td>\n",
              "      <td>57</td>\n",
              "      <td>-171</td>\n",
              "      <td>-39</td>\n",
              "      <td>-100</td>\n",
              "      <td>-319</td>\n",
              "      <td>-111</td>\n",
              "      <td>-228</td>\n",
              "      <td>-281</td>\n",
              "      <td>-281</td>\n",
              "      <td>-300</td>\n",
              "      <td>54</td>\n",
              "      <td>-149</td>\n",
              "      <td>-98</td>\n",
              "      <td>-196</td>\n",
              "      <td>-27</td>\n",
              "      <td>-22</td>\n",
              "      <td>2</td>\n",
              "      <td>75</td>\n",
              "      <td>49</td>\n",
              "      <td>-34</td>\n",
              "      <td>45</td>\n",
              "      <td>-91</td>\n",
              "      <td>32</td>\n",
              "      <td>95</td>\n",
              "      <td>-116</td>\n",
              "      <td>85</td>\n",
              "      <td>-23</td>\n",
              "      <td>42</td>\n",
              "      <td>-58</td>\n",
              "      <td>61</td>\n",
              "      <td>-171</td>\n",
              "      <td>...</td>\n",
              "      <td>88</td>\n",
              "      <td>-21</td>\n",
              "      <td>-32</td>\n",
              "      <td>32</td>\n",
              "      <td>-128</td>\n",
              "      <td>-72</td>\n",
              "      <td>-124</td>\n",
              "      <td>-218</td>\n",
              "      <td>-94</td>\n",
              "      <td>53</td>\n",
              "      <td>-79</td>\n",
              "      <td>-20</td>\n",
              "      <td>-35</td>\n",
              "      <td>-26</td>\n",
              "      <td>4</td>\n",
              "      <td>50</td>\n",
              "      <td>17</td>\n",
              "      <td>-177</td>\n",
              "      <td>-102</td>\n",
              "      <td>-121</td>\n",
              "      <td>-66</td>\n",
              "      <td>-77</td>\n",
              "      <td>51</td>\n",
              "      <td>-41</td>\n",
              "      <td>-34</td>\n",
              "      <td>-32</td>\n",
              "      <td>-63</td>\n",
              "      <td>115</td>\n",
              "      <td>-5</td>\n",
              "      <td>-235</td>\n",
              "      <td>-59</td>\n",
              "      <td>-2</td>\n",
              "      <td>52</td>\n",
              "      <td>103</td>\n",
              "      <td>136</td>\n",
              "      <td>169</td>\n",
              "      <td>-61</td>\n",
              "      <td>-136</td>\n",
              "      <td>79</td>\n",
              "      <td>1</td>\n",
              "    </tr>\n",
              "    <tr>\n",
              "      <th>2</th>\n",
              "      <td>3</td>\n",
              "      <td>MUSK-211</td>\n",
              "      <td>211_1+11</td>\n",
              "      <td>46</td>\n",
              "      <td>-194</td>\n",
              "      <td>-145</td>\n",
              "      <td>28</td>\n",
              "      <td>-117</td>\n",
              "      <td>73</td>\n",
              "      <td>57</td>\n",
              "      <td>-168</td>\n",
              "      <td>-39</td>\n",
              "      <td>-22</td>\n",
              "      <td>-319</td>\n",
              "      <td>-111</td>\n",
              "      <td>-104</td>\n",
              "      <td>-283</td>\n",
              "      <td>-282</td>\n",
              "      <td>-303</td>\n",
              "      <td>52</td>\n",
              "      <td>-152</td>\n",
              "      <td>-97</td>\n",
              "      <td>-225</td>\n",
              "      <td>-28</td>\n",
              "      <td>-22</td>\n",
              "      <td>2</td>\n",
              "      <td>179</td>\n",
              "      <td>49</td>\n",
              "      <td>-33</td>\n",
              "      <td>46</td>\n",
              "      <td>-88</td>\n",
              "      <td>22</td>\n",
              "      <td>79</td>\n",
              "      <td>-116</td>\n",
              "      <td>19</td>\n",
              "      <td>-11</td>\n",
              "      <td>6</td>\n",
              "      <td>-38</td>\n",
              "      <td>71</td>\n",
              "      <td>-175</td>\n",
              "      <td>...</td>\n",
              "      <td>64</td>\n",
              "      <td>0</td>\n",
              "      <td>-23</td>\n",
              "      <td>-15</td>\n",
              "      <td>-129</td>\n",
              "      <td>-74</td>\n",
              "      <td>-125</td>\n",
              "      <td>-221</td>\n",
              "      <td>-93</td>\n",
              "      <td>53</td>\n",
              "      <td>-72</td>\n",
              "      <td>-19</td>\n",
              "      <td>-33</td>\n",
              "      <td>-26</td>\n",
              "      <td>3</td>\n",
              "      <td>49</td>\n",
              "      <td>17</td>\n",
              "      <td>-177</td>\n",
              "      <td>-102</td>\n",
              "      <td>-119</td>\n",
              "      <td>-66</td>\n",
              "      <td>-81</td>\n",
              "      <td>51</td>\n",
              "      <td>-41</td>\n",
              "      <td>-27</td>\n",
              "      <td>-41</td>\n",
              "      <td>-140</td>\n",
              "      <td>77</td>\n",
              "      <td>-163</td>\n",
              "      <td>-238</td>\n",
              "      <td>-134</td>\n",
              "      <td>-154</td>\n",
              "      <td>57</td>\n",
              "      <td>143</td>\n",
              "      <td>142</td>\n",
              "      <td>165</td>\n",
              "      <td>-67</td>\n",
              "      <td>-145</td>\n",
              "      <td>39</td>\n",
              "      <td>1</td>\n",
              "    </tr>\n",
              "    <tr>\n",
              "      <th>3</th>\n",
              "      <td>4</td>\n",
              "      <td>MUSK-211</td>\n",
              "      <td>211_1+12</td>\n",
              "      <td>41</td>\n",
              "      <td>-188</td>\n",
              "      <td>-145</td>\n",
              "      <td>22</td>\n",
              "      <td>-117</td>\n",
              "      <td>-7</td>\n",
              "      <td>57</td>\n",
              "      <td>-170</td>\n",
              "      <td>-39</td>\n",
              "      <td>-99</td>\n",
              "      <td>-319</td>\n",
              "      <td>-111</td>\n",
              "      <td>-228</td>\n",
              "      <td>-282</td>\n",
              "      <td>-281</td>\n",
              "      <td>-301</td>\n",
              "      <td>54</td>\n",
              "      <td>-150</td>\n",
              "      <td>-98</td>\n",
              "      <td>-196</td>\n",
              "      <td>-28</td>\n",
              "      <td>-22</td>\n",
              "      <td>2</td>\n",
              "      <td>77</td>\n",
              "      <td>48</td>\n",
              "      <td>-34</td>\n",
              "      <td>46</td>\n",
              "      <td>-91</td>\n",
              "      <td>32</td>\n",
              "      <td>94</td>\n",
              "      <td>-116</td>\n",
              "      <td>84</td>\n",
              "      <td>-23</td>\n",
              "      <td>41</td>\n",
              "      <td>-58</td>\n",
              "      <td>62</td>\n",
              "      <td>-171</td>\n",
              "      <td>...</td>\n",
              "      <td>88</td>\n",
              "      <td>-20</td>\n",
              "      <td>-32</td>\n",
              "      <td>32</td>\n",
              "      <td>-128</td>\n",
              "      <td>-73</td>\n",
              "      <td>-125</td>\n",
              "      <td>-220</td>\n",
              "      <td>-93</td>\n",
              "      <td>53</td>\n",
              "      <td>-78</td>\n",
              "      <td>-19</td>\n",
              "      <td>-34</td>\n",
              "      <td>-26</td>\n",
              "      <td>4</td>\n",
              "      <td>50</td>\n",
              "      <td>17</td>\n",
              "      <td>-177</td>\n",
              "      <td>-101</td>\n",
              "      <td>-121</td>\n",
              "      <td>-65</td>\n",
              "      <td>-77</td>\n",
              "      <td>52</td>\n",
              "      <td>-41</td>\n",
              "      <td>-34</td>\n",
              "      <td>-32</td>\n",
              "      <td>-66</td>\n",
              "      <td>115</td>\n",
              "      <td>-7</td>\n",
              "      <td>-236</td>\n",
              "      <td>-60</td>\n",
              "      <td>-4</td>\n",
              "      <td>52</td>\n",
              "      <td>104</td>\n",
              "      <td>136</td>\n",
              "      <td>168</td>\n",
              "      <td>-60</td>\n",
              "      <td>-135</td>\n",
              "      <td>80</td>\n",
              "      <td>1</td>\n",
              "    </tr>\n",
              "    <tr>\n",
              "      <th>4</th>\n",
              "      <td>5</td>\n",
              "      <td>MUSK-211</td>\n",
              "      <td>211_1+13</td>\n",
              "      <td>41</td>\n",
              "      <td>-188</td>\n",
              "      <td>-145</td>\n",
              "      <td>22</td>\n",
              "      <td>-117</td>\n",
              "      <td>-7</td>\n",
              "      <td>57</td>\n",
              "      <td>-170</td>\n",
              "      <td>-39</td>\n",
              "      <td>-99</td>\n",
              "      <td>-319</td>\n",
              "      <td>-111</td>\n",
              "      <td>-228</td>\n",
              "      <td>-282</td>\n",
              "      <td>-281</td>\n",
              "      <td>-301</td>\n",
              "      <td>54</td>\n",
              "      <td>-150</td>\n",
              "      <td>-98</td>\n",
              "      <td>-196</td>\n",
              "      <td>-28</td>\n",
              "      <td>-22</td>\n",
              "      <td>2</td>\n",
              "      <td>78</td>\n",
              "      <td>48</td>\n",
              "      <td>-34</td>\n",
              "      <td>46</td>\n",
              "      <td>-91</td>\n",
              "      <td>31</td>\n",
              "      <td>94</td>\n",
              "      <td>-116</td>\n",
              "      <td>84</td>\n",
              "      <td>-23</td>\n",
              "      <td>41</td>\n",
              "      <td>-58</td>\n",
              "      <td>62</td>\n",
              "      <td>-171</td>\n",
              "      <td>...</td>\n",
              "      <td>88</td>\n",
              "      <td>-20</td>\n",
              "      <td>-32</td>\n",
              "      <td>32</td>\n",
              "      <td>-128</td>\n",
              "      <td>-73</td>\n",
              "      <td>-125</td>\n",
              "      <td>-220</td>\n",
              "      <td>-93</td>\n",
              "      <td>53</td>\n",
              "      <td>-78</td>\n",
              "      <td>-19</td>\n",
              "      <td>-34</td>\n",
              "      <td>-26</td>\n",
              "      <td>4</td>\n",
              "      <td>50</td>\n",
              "      <td>17</td>\n",
              "      <td>-177</td>\n",
              "      <td>-101</td>\n",
              "      <td>-121</td>\n",
              "      <td>-65</td>\n",
              "      <td>-76</td>\n",
              "      <td>52</td>\n",
              "      <td>-41</td>\n",
              "      <td>-34</td>\n",
              "      <td>-32</td>\n",
              "      <td>-66</td>\n",
              "      <td>115</td>\n",
              "      <td>-8</td>\n",
              "      <td>-236</td>\n",
              "      <td>-60</td>\n",
              "      <td>-4</td>\n",
              "      <td>52</td>\n",
              "      <td>104</td>\n",
              "      <td>137</td>\n",
              "      <td>168</td>\n",
              "      <td>-60</td>\n",
              "      <td>-135</td>\n",
              "      <td>80</td>\n",
              "      <td>1</td>\n",
              "    </tr>\n",
              "  </tbody>\n",
              "</table>\n",
              "<p>5 rows × 170 columns</p>\n",
              "</div>"
            ],
            "text/plain": [
              "   ID molecule_name conformation_name  f1   f2  ...  f163  f164  f165  f166  class\n",
              "0   1      MUSK-211           211_1+1  46 -108  ...   156   -50  -112    96      1\n",
              "1   2      MUSK-211          211_1+10  41 -188  ...   169   -61  -136    79      1\n",
              "2   3      MUSK-211          211_1+11  46 -194  ...   165   -67  -145    39      1\n",
              "3   4      MUSK-211          211_1+12  41 -188  ...   168   -60  -135    80      1\n",
              "4   5      MUSK-211          211_1+13  41 -188  ...   168   -60  -135    80      1\n",
              "\n",
              "[5 rows x 170 columns]"
            ]
          },
          "metadata": {
            "tags": []
          },
          "execution_count": 8
        }
      ]
    },
    {
      "cell_type": "code",
      "metadata": {
        "colab": {
          "base_uri": "https://localhost:8080/",
          "height": 338
        },
        "id": "xXLjt3nluIqR",
        "outputId": "c5a142ca-b959-40f5-c4c7-66bae78c1823"
      },
      "source": [
        "data.tail(5)"
      ],
      "execution_count": 9,
      "outputs": [
        {
          "output_type": "execute_result",
          "data": {
            "text/html": [
              "<div>\n",
              "<style scoped>\n",
              "    .dataframe tbody tr th:only-of-type {\n",
              "        vertical-align: middle;\n",
              "    }\n",
              "\n",
              "    .dataframe tbody tr th {\n",
              "        vertical-align: top;\n",
              "    }\n",
              "\n",
              "    .dataframe thead th {\n",
              "        text-align: right;\n",
              "    }\n",
              "</style>\n",
              "<table border=\"1\" class=\"dataframe\">\n",
              "  <thead>\n",
              "    <tr style=\"text-align: right;\">\n",
              "      <th></th>\n",
              "      <th>ID</th>\n",
              "      <th>molecule_name</th>\n",
              "      <th>conformation_name</th>\n",
              "      <th>f1</th>\n",
              "      <th>f2</th>\n",
              "      <th>f3</th>\n",
              "      <th>f4</th>\n",
              "      <th>f5</th>\n",
              "      <th>f6</th>\n",
              "      <th>f7</th>\n",
              "      <th>f8</th>\n",
              "      <th>f9</th>\n",
              "      <th>f10</th>\n",
              "      <th>f11</th>\n",
              "      <th>f12</th>\n",
              "      <th>f13</th>\n",
              "      <th>f14</th>\n",
              "      <th>f15</th>\n",
              "      <th>f16</th>\n",
              "      <th>f17</th>\n",
              "      <th>f18</th>\n",
              "      <th>f19</th>\n",
              "      <th>f20</th>\n",
              "      <th>f21</th>\n",
              "      <th>f22</th>\n",
              "      <th>f23</th>\n",
              "      <th>f24</th>\n",
              "      <th>f25</th>\n",
              "      <th>f26</th>\n",
              "      <th>f27</th>\n",
              "      <th>f28</th>\n",
              "      <th>f29</th>\n",
              "      <th>f30</th>\n",
              "      <th>f31</th>\n",
              "      <th>f32</th>\n",
              "      <th>f33</th>\n",
              "      <th>f34</th>\n",
              "      <th>f35</th>\n",
              "      <th>f36</th>\n",
              "      <th>f37</th>\n",
              "      <th>...</th>\n",
              "      <th>f128</th>\n",
              "      <th>f129</th>\n",
              "      <th>f130</th>\n",
              "      <th>f131</th>\n",
              "      <th>f132</th>\n",
              "      <th>f133</th>\n",
              "      <th>f134</th>\n",
              "      <th>f135</th>\n",
              "      <th>f136</th>\n",
              "      <th>f137</th>\n",
              "      <th>f138</th>\n",
              "      <th>f139</th>\n",
              "      <th>f140</th>\n",
              "      <th>f141</th>\n",
              "      <th>f142</th>\n",
              "      <th>f143</th>\n",
              "      <th>f144</th>\n",
              "      <th>f145</th>\n",
              "      <th>f146</th>\n",
              "      <th>f147</th>\n",
              "      <th>f148</th>\n",
              "      <th>f149</th>\n",
              "      <th>f150</th>\n",
              "      <th>f151</th>\n",
              "      <th>f152</th>\n",
              "      <th>f153</th>\n",
              "      <th>f154</th>\n",
              "      <th>f155</th>\n",
              "      <th>f156</th>\n",
              "      <th>f157</th>\n",
              "      <th>f158</th>\n",
              "      <th>f159</th>\n",
              "      <th>f160</th>\n",
              "      <th>f161</th>\n",
              "      <th>f162</th>\n",
              "      <th>f163</th>\n",
              "      <th>f164</th>\n",
              "      <th>f165</th>\n",
              "      <th>f166</th>\n",
              "      <th>class</th>\n",
              "    </tr>\n",
              "  </thead>\n",
              "  <tbody>\n",
              "    <tr>\n",
              "      <th>6593</th>\n",
              "      <td>6594</td>\n",
              "      <td>NON-MUSK-jp13</td>\n",
              "      <td>jp13_2+5</td>\n",
              "      <td>51</td>\n",
              "      <td>-123</td>\n",
              "      <td>-23</td>\n",
              "      <td>-108</td>\n",
              "      <td>-117</td>\n",
              "      <td>134</td>\n",
              "      <td>-160</td>\n",
              "      <td>82</td>\n",
              "      <td>-230</td>\n",
              "      <td>-28</td>\n",
              "      <td>-150</td>\n",
              "      <td>-63</td>\n",
              "      <td>-55</td>\n",
              "      <td>-77</td>\n",
              "      <td>-108</td>\n",
              "      <td>-308</td>\n",
              "      <td>-221</td>\n",
              "      <td>-41</td>\n",
              "      <td>-57</td>\n",
              "      <td>12</td>\n",
              "      <td>-112</td>\n",
              "      <td>-183</td>\n",
              "      <td>-198</td>\n",
              "      <td>-35</td>\n",
              "      <td>137</td>\n",
              "      <td>-198</td>\n",
              "      <td>-168</td>\n",
              "      <td>-153</td>\n",
              "      <td>-51</td>\n",
              "      <td>252</td>\n",
              "      <td>-108</td>\n",
              "      <td>135</td>\n",
              "      <td>-121</td>\n",
              "      <td>119</td>\n",
              "      <td>-120</td>\n",
              "      <td>73</td>\n",
              "      <td>28</td>\n",
              "      <td>...</td>\n",
              "      <td>224</td>\n",
              "      <td>-18</td>\n",
              "      <td>-96</td>\n",
              "      <td>43</td>\n",
              "      <td>1</td>\n",
              "      <td>-76</td>\n",
              "      <td>-53</td>\n",
              "      <td>-38</td>\n",
              "      <td>-23</td>\n",
              "      <td>-176</td>\n",
              "      <td>-32</td>\n",
              "      <td>-205</td>\n",
              "      <td>-95</td>\n",
              "      <td>-124</td>\n",
              "      <td>-139</td>\n",
              "      <td>-153</td>\n",
              "      <td>-170</td>\n",
              "      <td>-178</td>\n",
              "      <td>-102</td>\n",
              "      <td>-113</td>\n",
              "      <td>-42</td>\n",
              "      <td>-67</td>\n",
              "      <td>-141</td>\n",
              "      <td>-96</td>\n",
              "      <td>-112</td>\n",
              "      <td>-113</td>\n",
              "      <td>-47</td>\n",
              "      <td>124</td>\n",
              "      <td>-12</td>\n",
              "      <td>62</td>\n",
              "      <td>-66</td>\n",
              "      <td>164</td>\n",
              "      <td>-14</td>\n",
              "      <td>-29</td>\n",
              "      <td>107</td>\n",
              "      <td>171</td>\n",
              "      <td>-44</td>\n",
              "      <td>-115</td>\n",
              "      <td>118</td>\n",
              "      <td>0</td>\n",
              "    </tr>\n",
              "    <tr>\n",
              "      <th>6594</th>\n",
              "      <td>6595</td>\n",
              "      <td>NON-MUSK-jp13</td>\n",
              "      <td>jp13_2+6</td>\n",
              "      <td>44</td>\n",
              "      <td>-104</td>\n",
              "      <td>-19</td>\n",
              "      <td>-105</td>\n",
              "      <td>-117</td>\n",
              "      <td>142</td>\n",
              "      <td>-165</td>\n",
              "      <td>68</td>\n",
              "      <td>-225</td>\n",
              "      <td>-32</td>\n",
              "      <td>-124</td>\n",
              "      <td>-77</td>\n",
              "      <td>-43</td>\n",
              "      <td>-74</td>\n",
              "      <td>-100</td>\n",
              "      <td>-291</td>\n",
              "      <td>-215</td>\n",
              "      <td>-25</td>\n",
              "      <td>-49</td>\n",
              "      <td>6</td>\n",
              "      <td>-121</td>\n",
              "      <td>-183</td>\n",
              "      <td>-201</td>\n",
              "      <td>-54</td>\n",
              "      <td>127</td>\n",
              "      <td>-204</td>\n",
              "      <td>-164</td>\n",
              "      <td>-160</td>\n",
              "      <td>-41</td>\n",
              "      <td>255</td>\n",
              "      <td>-117</td>\n",
              "      <td>-104</td>\n",
              "      <td>-14</td>\n",
              "      <td>133</td>\n",
              "      <td>-157</td>\n",
              "      <td>141</td>\n",
              "      <td>46</td>\n",
              "      <td>...</td>\n",
              "      <td>232</td>\n",
              "      <td>-6</td>\n",
              "      <td>-146</td>\n",
              "      <td>-88</td>\n",
              "      <td>-75</td>\n",
              "      <td>-74</td>\n",
              "      <td>-55</td>\n",
              "      <td>-30</td>\n",
              "      <td>-28</td>\n",
              "      <td>-175</td>\n",
              "      <td>-48</td>\n",
              "      <td>-202</td>\n",
              "      <td>-86</td>\n",
              "      <td>-125</td>\n",
              "      <td>-138</td>\n",
              "      <td>-154</td>\n",
              "      <td>-169</td>\n",
              "      <td>-178</td>\n",
              "      <td>-102</td>\n",
              "      <td>-123</td>\n",
              "      <td>-32</td>\n",
              "      <td>-52</td>\n",
              "      <td>-136</td>\n",
              "      <td>-98</td>\n",
              "      <td>-109</td>\n",
              "      <td>-112</td>\n",
              "      <td>-56</td>\n",
              "      <td>-49</td>\n",
              "      <td>-85</td>\n",
              "      <td>60</td>\n",
              "      <td>-51</td>\n",
              "      <td>166</td>\n",
              "      <td>-9</td>\n",
              "      <td>150</td>\n",
              "      <td>129</td>\n",
              "      <td>158</td>\n",
              "      <td>-66</td>\n",
              "      <td>-144</td>\n",
              "      <td>-5</td>\n",
              "      <td>0</td>\n",
              "    </tr>\n",
              "    <tr>\n",
              "      <th>6595</th>\n",
              "      <td>6596</td>\n",
              "      <td>NON-MUSK-jp13</td>\n",
              "      <td>jp13_2+7</td>\n",
              "      <td>44</td>\n",
              "      <td>-102</td>\n",
              "      <td>-19</td>\n",
              "      <td>-104</td>\n",
              "      <td>-117</td>\n",
              "      <td>72</td>\n",
              "      <td>-165</td>\n",
              "      <td>65</td>\n",
              "      <td>-219</td>\n",
              "      <td>-12</td>\n",
              "      <td>-107</td>\n",
              "      <td>-66</td>\n",
              "      <td>-58</td>\n",
              "      <td>-82</td>\n",
              "      <td>-77</td>\n",
              "      <td>-288</td>\n",
              "      <td>-214</td>\n",
              "      <td>-21</td>\n",
              "      <td>-58</td>\n",
              "      <td>-32</td>\n",
              "      <td>-93</td>\n",
              "      <td>-183</td>\n",
              "      <td>-197</td>\n",
              "      <td>-71</td>\n",
              "      <td>218</td>\n",
              "      <td>-217</td>\n",
              "      <td>-164</td>\n",
              "      <td>-161</td>\n",
              "      <td>-59</td>\n",
              "      <td>243</td>\n",
              "      <td>-117</td>\n",
              "      <td>-103</td>\n",
              "      <td>-14</td>\n",
              "      <td>118</td>\n",
              "      <td>-157</td>\n",
              "      <td>140</td>\n",
              "      <td>-150</td>\n",
              "      <td>...</td>\n",
              "      <td>167</td>\n",
              "      <td>-13</td>\n",
              "      <td>-188</td>\n",
              "      <td>-89</td>\n",
              "      <td>-117</td>\n",
              "      <td>-57</td>\n",
              "      <td>-47</td>\n",
              "      <td>-33</td>\n",
              "      <td>-28</td>\n",
              "      <td>-175</td>\n",
              "      <td>-50</td>\n",
              "      <td>-216</td>\n",
              "      <td>-129</td>\n",
              "      <td>-130</td>\n",
              "      <td>-138</td>\n",
              "      <td>-155</td>\n",
              "      <td>-169</td>\n",
              "      <td>-178</td>\n",
              "      <td>-102</td>\n",
              "      <td>-124</td>\n",
              "      <td>-32</td>\n",
              "      <td>-51</td>\n",
              "      <td>-136</td>\n",
              "      <td>-98</td>\n",
              "      <td>-123</td>\n",
              "      <td>-112</td>\n",
              "      <td>-55</td>\n",
              "      <td>-47</td>\n",
              "      <td>-84</td>\n",
              "      <td>-226</td>\n",
              "      <td>90</td>\n",
              "      <td>117</td>\n",
              "      <td>-8</td>\n",
              "      <td>150</td>\n",
              "      <td>130</td>\n",
              "      <td>159</td>\n",
              "      <td>-66</td>\n",
              "      <td>-144</td>\n",
              "      <td>-6</td>\n",
              "      <td>0</td>\n",
              "    </tr>\n",
              "    <tr>\n",
              "      <th>6596</th>\n",
              "      <td>6597</td>\n",
              "      <td>NON-MUSK-jp13</td>\n",
              "      <td>jp13_2+8</td>\n",
              "      <td>51</td>\n",
              "      <td>-121</td>\n",
              "      <td>-23</td>\n",
              "      <td>-106</td>\n",
              "      <td>-117</td>\n",
              "      <td>63</td>\n",
              "      <td>-161</td>\n",
              "      <td>79</td>\n",
              "      <td>-224</td>\n",
              "      <td>-30</td>\n",
              "      <td>-129</td>\n",
              "      <td>-54</td>\n",
              "      <td>-60</td>\n",
              "      <td>-86</td>\n",
              "      <td>-88</td>\n",
              "      <td>-307</td>\n",
              "      <td>-221</td>\n",
              "      <td>-39</td>\n",
              "      <td>-58</td>\n",
              "      <td>-12</td>\n",
              "      <td>-86</td>\n",
              "      <td>-184</td>\n",
              "      <td>-180</td>\n",
              "      <td>-61</td>\n",
              "      <td>221</td>\n",
              "      <td>-211</td>\n",
              "      <td>-168</td>\n",
              "      <td>-154</td>\n",
              "      <td>-63</td>\n",
              "      <td>243</td>\n",
              "      <td>-107</td>\n",
              "      <td>136</td>\n",
              "      <td>-121</td>\n",
              "      <td>116</td>\n",
              "      <td>-122</td>\n",
              "      <td>73</td>\n",
              "      <td>-155</td>\n",
              "      <td>...</td>\n",
              "      <td>167</td>\n",
              "      <td>7</td>\n",
              "      <td>-170</td>\n",
              "      <td>43</td>\n",
              "      <td>-6</td>\n",
              "      <td>-61</td>\n",
              "      <td>-47</td>\n",
              "      <td>-43</td>\n",
              "      <td>-23</td>\n",
              "      <td>-176</td>\n",
              "      <td>-33</td>\n",
              "      <td>-212</td>\n",
              "      <td>-131</td>\n",
              "      <td>-113</td>\n",
              "      <td>-139</td>\n",
              "      <td>-153</td>\n",
              "      <td>-170</td>\n",
              "      <td>-178</td>\n",
              "      <td>-103</td>\n",
              "      <td>-114</td>\n",
              "      <td>-42</td>\n",
              "      <td>-66</td>\n",
              "      <td>-141</td>\n",
              "      <td>-96</td>\n",
              "      <td>-123</td>\n",
              "      <td>-113</td>\n",
              "      <td>-46</td>\n",
              "      <td>124</td>\n",
              "      <td>-11</td>\n",
              "      <td>-238</td>\n",
              "      <td>86</td>\n",
              "      <td>99</td>\n",
              "      <td>-14</td>\n",
              "      <td>-31</td>\n",
              "      <td>106</td>\n",
              "      <td>171</td>\n",
              "      <td>-44</td>\n",
              "      <td>-116</td>\n",
              "      <td>117</td>\n",
              "      <td>0</td>\n",
              "    </tr>\n",
              "    <tr>\n",
              "      <th>6597</th>\n",
              "      <td>6598</td>\n",
              "      <td>NON-MUSK-jp13</td>\n",
              "      <td>jp13_2+9</td>\n",
              "      <td>51</td>\n",
              "      <td>-122</td>\n",
              "      <td>-23</td>\n",
              "      <td>-106</td>\n",
              "      <td>-117</td>\n",
              "      <td>190</td>\n",
              "      <td>-161</td>\n",
              "      <td>80</td>\n",
              "      <td>-227</td>\n",
              "      <td>-52</td>\n",
              "      <td>-139</td>\n",
              "      <td>-63</td>\n",
              "      <td>-51</td>\n",
              "      <td>-79</td>\n",
              "      <td>-99</td>\n",
              "      <td>-122</td>\n",
              "      <td>-220</td>\n",
              "      <td>-35</td>\n",
              "      <td>-57</td>\n",
              "      <td>6</td>\n",
              "      <td>-104</td>\n",
              "      <td>-183</td>\n",
              "      <td>-196</td>\n",
              "      <td>-51</td>\n",
              "      <td>63</td>\n",
              "      <td>-204</td>\n",
              "      <td>-169</td>\n",
              "      <td>-154</td>\n",
              "      <td>63</td>\n",
              "      <td>128</td>\n",
              "      <td>-108</td>\n",
              "      <td>135</td>\n",
              "      <td>-121</td>\n",
              "      <td>42</td>\n",
              "      <td>-122</td>\n",
              "      <td>73</td>\n",
              "      <td>-90</td>\n",
              "      <td>...</td>\n",
              "      <td>98</td>\n",
              "      <td>-57</td>\n",
              "      <td>-152</td>\n",
              "      <td>43</td>\n",
              "      <td>-4</td>\n",
              "      <td>-69</td>\n",
              "      <td>-51</td>\n",
              "      <td>-37</td>\n",
              "      <td>-23</td>\n",
              "      <td>-175</td>\n",
              "      <td>-33</td>\n",
              "      <td>-209</td>\n",
              "      <td>-108</td>\n",
              "      <td>-125</td>\n",
              "      <td>-139</td>\n",
              "      <td>-153</td>\n",
              "      <td>-170</td>\n",
              "      <td>-178</td>\n",
              "      <td>-102</td>\n",
              "      <td>-115</td>\n",
              "      <td>-42</td>\n",
              "      <td>-66</td>\n",
              "      <td>-141</td>\n",
              "      <td>-96</td>\n",
              "      <td>-110</td>\n",
              "      <td>-113</td>\n",
              "      <td>-46</td>\n",
              "      <td>124</td>\n",
              "      <td>-11</td>\n",
              "      <td>95</td>\n",
              "      <td>40</td>\n",
              "      <td>124</td>\n",
              "      <td>-14</td>\n",
              "      <td>-30</td>\n",
              "      <td>107</td>\n",
              "      <td>171</td>\n",
              "      <td>-44</td>\n",
              "      <td>-115</td>\n",
              "      <td>118</td>\n",
              "      <td>0</td>\n",
              "    </tr>\n",
              "  </tbody>\n",
              "</table>\n",
              "<p>5 rows × 170 columns</p>\n",
              "</div>"
            ],
            "text/plain": [
              "        ID  molecule_name conformation_name  f1  ...  f164  f165  f166  class\n",
              "6593  6594  NON-MUSK-jp13          jp13_2+5  51  ...   -44  -115   118      0\n",
              "6594  6595  NON-MUSK-jp13          jp13_2+6  44  ...   -66  -144    -5      0\n",
              "6595  6596  NON-MUSK-jp13          jp13_2+7  44  ...   -66  -144    -6      0\n",
              "6596  6597  NON-MUSK-jp13          jp13_2+8  51  ...   -44  -116   117      0\n",
              "6597  6598  NON-MUSK-jp13          jp13_2+9  51  ...   -44  -115   118      0\n",
              "\n",
              "[5 rows x 170 columns]"
            ]
          },
          "metadata": {
            "tags": []
          },
          "execution_count": 9
        }
      ]
    },
    {
      "cell_type": "code",
      "metadata": {
        "colab": {
          "base_uri": "https://localhost:8080/"
        },
        "id": "roL5VVW9uLyl",
        "outputId": "d1928dfc-7f31-43a1-e49c-7d156348f8c6"
      },
      "source": [
        "data.info"
      ],
      "execution_count": 10,
      "outputs": [
        {
          "output_type": "execute_result",
          "data": {
            "text/plain": [
              "<bound method DataFrame.info of         ID  molecule_name conformation_name  f1  ...  f164  f165  f166  class\n",
              "0        1       MUSK-211           211_1+1  46  ...   -50  -112    96      1\n",
              "1        2       MUSK-211          211_1+10  41  ...   -61  -136    79      1\n",
              "2        3       MUSK-211          211_1+11  46  ...   -67  -145    39      1\n",
              "3        4       MUSK-211          211_1+12  41  ...   -60  -135    80      1\n",
              "4        5       MUSK-211          211_1+13  41  ...   -60  -135    80      1\n",
              "...    ...            ...               ...  ..  ...   ...   ...   ...    ...\n",
              "6593  6594  NON-MUSK-jp13          jp13_2+5  51  ...   -44  -115   118      0\n",
              "6594  6595  NON-MUSK-jp13          jp13_2+6  44  ...   -66  -144    -5      0\n",
              "6595  6596  NON-MUSK-jp13          jp13_2+7  44  ...   -66  -144    -6      0\n",
              "6596  6597  NON-MUSK-jp13          jp13_2+8  51  ...   -44  -116   117      0\n",
              "6597  6598  NON-MUSK-jp13          jp13_2+9  51  ...   -44  -115   118      0\n",
              "\n",
              "[6598 rows x 170 columns]>"
            ]
          },
          "metadata": {
            "tags": []
          },
          "execution_count": 10
        }
      ]
    },
    {
      "cell_type": "code",
      "metadata": {
        "colab": {
          "base_uri": "https://localhost:8080/"
        },
        "id": "TcipbEkyuN09",
        "outputId": "9ebf41b6-c280-4927-98ae-387089f4de21"
      },
      "source": [
        "data.shape"
      ],
      "execution_count": 11,
      "outputs": [
        {
          "output_type": "execute_result",
          "data": {
            "text/plain": [
              "(6598, 170)"
            ]
          },
          "metadata": {
            "tags": []
          },
          "execution_count": 11
        }
      ]
    },
    {
      "cell_type": "code",
      "metadata": {
        "colab": {
          "base_uri": "https://localhost:8080/"
        },
        "id": "xDnGOErVubfm",
        "outputId": "830fa85d-f89b-4935-c29a-ecc58820c3b6"
      },
      "source": [
        "data['class'].value_counts()"
      ],
      "execution_count": 14,
      "outputs": [
        {
          "output_type": "execute_result",
          "data": {
            "text/plain": [
              "0    5581\n",
              "1    1017\n",
              "Name: class, dtype: int64"
            ]
          },
          "metadata": {
            "tags": []
          },
          "execution_count": 14
        }
      ]
    },
    {
      "cell_type": "code",
      "metadata": {
        "colab": {
          "base_uri": "https://localhost:8080/"
        },
        "id": "QTWzut29uoPh",
        "outputId": "d65dbf5c-4342-4591-ab29-d9b2771fceda"
      },
      "source": [
        "data['molecule_name'].value_counts()"
      ],
      "execution_count": 15,
      "outputs": [
        {
          "output_type": "execute_result",
          "data": {
            "text/plain": [
              "NON-MUSK-j146    1044\n",
              "NON-MUSK-252     1010\n",
              "NON-MUSK-j147     911\n",
              "NON-MUSK-f146     383\n",
              "NON-MUSK-288      344\n",
              "                 ... \n",
              "NON-MUSK-308        2\n",
              "NON-MUSK-295        2\n",
              "NON-MUSK-358        2\n",
              "NON-MUSK-j97        1\n",
              "NON-MUSK-j96        1\n",
              "Name: molecule_name, Length: 102, dtype: int64"
            ]
          },
          "metadata": {
            "tags": []
          },
          "execution_count": 15
        }
      ]
    },
    {
      "cell_type": "markdown",
      "metadata": {
        "id": "whaGdDk4uxwl"
      },
      "source": [
        "First, perform a multi-class classification of 102 types of moelcules in the dataset"
      ]
    },
    {
      "cell_type": "code",
      "metadata": {
        "colab": {
          "base_uri": "https://localhost:8080/"
        },
        "id": "O1xgJkcqvCrO",
        "outputId": "cc174abd-eaec-49ff-9e03-8f93c6455e18"
      },
      "source": [
        "data.isnull().values.any()"
      ],
      "execution_count": 16,
      "outputs": [
        {
          "output_type": "execute_result",
          "data": {
            "text/plain": [
              "False"
            ]
          },
          "metadata": {
            "tags": []
          },
          "execution_count": 16
        }
      ]
    },
    {
      "cell_type": "code",
      "metadata": {
        "colab": {
          "base_uri": "https://localhost:8080/"
        },
        "id": "mQGbaa-dvaYf",
        "outputId": "6c1e8324-15d9-47c2-e529-076196517de5"
      },
      "source": [
        "data.nunique()"
      ],
      "execution_count": 18,
      "outputs": [
        {
          "output_type": "execute_result",
          "data": {
            "text/plain": [
              "ID                   6598\n",
              "molecule_name         102\n",
              "conformation_name    6598\n",
              "f1                    202\n",
              "f2                    260\n",
              "                     ... \n",
              "f163                  292\n",
              "f164                  172\n",
              "f165                  352\n",
              "f166                  385\n",
              "class                   2\n",
              "Length: 170, dtype: int64"
            ]
          },
          "metadata": {
            "tags": []
          },
          "execution_count": 18
        }
      ]
    },
    {
      "cell_type": "code",
      "metadata": {
        "id": "DYRClBbwvw5X"
      },
      "source": [
        "X = data.iloc[:,3:-1].values"
      ],
      "execution_count": 19,
      "outputs": []
    },
    {
      "cell_type": "code",
      "metadata": {
        "colab": {
          "base_uri": "https://localhost:8080/"
        },
        "id": "uhng8vnbwZgy",
        "outputId": "8f838203-cf7a-41e9-e1e6-cfae2fb79376"
      },
      "source": [
        "X.shape"
      ],
      "execution_count": 20,
      "outputs": [
        {
          "output_type": "execute_result",
          "data": {
            "text/plain": [
              "(6598, 166)"
            ]
          },
          "metadata": {
            "tags": []
          },
          "execution_count": 20
        }
      ]
    },
    {
      "cell_type": "code",
      "metadata": {
        "id": "G1_M6bCswbJ2"
      },
      "source": [
        "Y = data.iloc[:, 1].values"
      ],
      "execution_count": 21,
      "outputs": []
    },
    {
      "cell_type": "code",
      "metadata": {
        "colab": {
          "base_uri": "https://localhost:8080/"
        },
        "id": "E86gif_Fwk6R",
        "outputId": "d4c69b3b-e154-4eb7-824b-23f9dd99dce6"
      },
      "source": [
        "Y.shape"
      ],
      "execution_count": 22,
      "outputs": [
        {
          "output_type": "execute_result",
          "data": {
            "text/plain": [
              "(6598,)"
            ]
          },
          "metadata": {
            "tags": []
          },
          "execution_count": 22
        }
      ]
    },
    {
      "cell_type": "code",
      "metadata": {
        "colab": {
          "base_uri": "https://localhost:8080/"
        },
        "id": "7rNne5rtwmi8",
        "outputId": "1e39be39-72fe-4ec1-ffe9-4dd65a5260f8"
      },
      "source": [
        "np.unique(Y).shape"
      ],
      "execution_count": 26,
      "outputs": [
        {
          "output_type": "execute_result",
          "data": {
            "text/plain": [
              "(102,)"
            ]
          },
          "metadata": {
            "tags": []
          },
          "execution_count": 26
        }
      ]
    },
    {
      "cell_type": "code",
      "metadata": {
        "id": "kMB-gVoXww4v"
      },
      "source": [
        "from sklearn.metrics import confusion_matrix, f1_score, recall_score, precision_score"
      ],
      "execution_count": 28,
      "outputs": []
    },
    {
      "cell_type": "code",
      "metadata": {
        "id": "lGHPMg_5xcIo"
      },
      "source": [
        "from sklearn.preprocessing import OneHotEncoder\r\n",
        "Y = OneHotEncoder().fit_transform(Y.reshape(-1,1)).toarray()"
      ],
      "execution_count": 30,
      "outputs": []
    },
    {
      "cell_type": "code",
      "metadata": {
        "id": "gJICs0bMyDrq"
      },
      "source": [
        "from sklearn.preprocessing import StandardScaler\r\n",
        "X = StandardScaler().fit_transform(X)"
      ],
      "execution_count": 32,
      "outputs": []
    },
    {
      "cell_type": "code",
      "metadata": {
        "id": "3o1aFa2ryaHm"
      },
      "source": [
        "from sklearn.model_selection import train_test_split\r\n",
        "X_train, X_test, Y_train, Y_test = train_test_split(X, Y, train_size = 0.8, test_size = 0.2)"
      ],
      "execution_count": 33,
      "outputs": []
    },
    {
      "cell_type": "code",
      "metadata": {
        "id": "UOyF0nMCy70S"
      },
      "source": [
        "import tensorflow as tf"
      ],
      "execution_count": 34,
      "outputs": []
    },
    {
      "cell_type": "code",
      "metadata": {
        "id": "H9RjH4xOzDBi"
      },
      "source": [
        "import keras\r\n",
        "from keras.layers import Dense"
      ],
      "execution_count": 35,
      "outputs": []
    },
    {
      "cell_type": "code",
      "metadata": {
        "id": "vCeAzDFszLUg"
      },
      "source": [
        "model = keras.Sequential()\r\n",
        "model.add(Dense(300, activation= 'softmax'))\r\n",
        "model.add(Dense(200, activation= 'relu'))\r\n",
        "model.add(Dense(102, activation= 'sigmoid'))\r\n",
        "model.compile(optimizer = 'adam', loss = 'mse', metrics= ['accuracy'])"
      ],
      "execution_count": 37,
      "outputs": []
    },
    {
      "cell_type": "code",
      "metadata": {
        "colab": {
          "base_uri": "https://localhost:8080/"
        },
        "id": "Ww699mTi0c_W",
        "outputId": "fb2e6ae7-5f0f-44c3-e00e-de4bbd658509"
      },
      "source": [
        "model.fit(X_train, Y_train, verbose=1, validation_data=(X_test, Y_test), epochs=100)\r\n",
        "model.save('model_musk.h5')"
      ],
      "execution_count": 39,
      "outputs": [
        {
          "output_type": "stream",
          "text": [
            "Epoch 1/100\n",
            "165/165 [==============================] - 2s 6ms/step - loss: 0.1474 - accuracy: 0.0314 - val_loss: 0.0092 - val_accuracy: 0.1621\n",
            "Epoch 2/100\n",
            "165/165 [==============================] - 1s 4ms/step - loss: 0.0091 - accuracy: 0.1667 - val_loss: 0.0084 - val_accuracy: 0.2674\n",
            "Epoch 3/100\n",
            "165/165 [==============================] - 1s 4ms/step - loss: 0.0082 - accuracy: 0.3430 - val_loss: 0.0069 - val_accuracy: 0.4311\n",
            "Epoch 4/100\n",
            "165/165 [==============================] - 1s 4ms/step - loss: 0.0067 - accuracy: 0.4476 - val_loss: 0.0057 - val_accuracy: 0.5492\n",
            "Epoch 5/100\n",
            "165/165 [==============================] - 1s 4ms/step - loss: 0.0057 - accuracy: 0.5400 - val_loss: 0.0049 - val_accuracy: 0.6523\n",
            "Epoch 6/100\n",
            "165/165 [==============================] - 1s 4ms/step - loss: 0.0048 - accuracy: 0.6346 - val_loss: 0.0042 - val_accuracy: 0.7227\n",
            "Epoch 7/100\n",
            "165/165 [==============================] - 1s 4ms/step - loss: 0.0042 - accuracy: 0.7104 - val_loss: 0.0036 - val_accuracy: 0.7409\n",
            "Epoch 8/100\n",
            "165/165 [==============================] - 1s 4ms/step - loss: 0.0037 - accuracy: 0.7315 - val_loss: 0.0032 - val_accuracy: 0.7591\n",
            "Epoch 9/100\n",
            "165/165 [==============================] - 1s 4ms/step - loss: 0.0033 - accuracy: 0.7456 - val_loss: 0.0028 - val_accuracy: 0.7621\n",
            "Epoch 10/100\n",
            "165/165 [==============================] - 1s 4ms/step - loss: 0.0030 - accuracy: 0.7521 - val_loss: 0.0027 - val_accuracy: 0.7712\n",
            "Epoch 11/100\n",
            "165/165 [==============================] - 1s 4ms/step - loss: 0.0029 - accuracy: 0.7583 - val_loss: 0.0026 - val_accuracy: 0.7811\n",
            "Epoch 12/100\n",
            "165/165 [==============================] - 1s 4ms/step - loss: 0.0027 - accuracy: 0.7742 - val_loss: 0.0025 - val_accuracy: 0.7947\n",
            "Epoch 13/100\n",
            "165/165 [==============================] - 1s 4ms/step - loss: 0.0027 - accuracy: 0.7893 - val_loss: 0.0024 - val_accuracy: 0.8076\n",
            "Epoch 14/100\n",
            "165/165 [==============================] - 1s 4ms/step - loss: 0.0027 - accuracy: 0.7886 - val_loss: 0.0023 - val_accuracy: 0.8129\n",
            "Epoch 15/100\n",
            "165/165 [==============================] - 1s 4ms/step - loss: 0.0024 - accuracy: 0.8145 - val_loss: 0.0022 - val_accuracy: 0.8303\n",
            "Epoch 16/100\n",
            "165/165 [==============================] - 1s 4ms/step - loss: 0.0024 - accuracy: 0.8079 - val_loss: 0.0021 - val_accuracy: 0.8341\n",
            "Epoch 17/100\n",
            "165/165 [==============================] - 1s 4ms/step - loss: 0.0023 - accuracy: 0.8179 - val_loss: 0.0021 - val_accuracy: 0.8439\n",
            "Epoch 18/100\n",
            "165/165 [==============================] - 1s 4ms/step - loss: 0.0021 - accuracy: 0.8308 - val_loss: 0.0020 - val_accuracy: 0.8485\n",
            "Epoch 19/100\n",
            "165/165 [==============================] - 1s 4ms/step - loss: 0.0022 - accuracy: 0.8275 - val_loss: 0.0020 - val_accuracy: 0.8447\n",
            "Epoch 20/100\n",
            "165/165 [==============================] - 1s 4ms/step - loss: 0.0021 - accuracy: 0.8349 - val_loss: 0.0019 - val_accuracy: 0.8500\n",
            "Epoch 21/100\n",
            "165/165 [==============================] - 1s 4ms/step - loss: 0.0021 - accuracy: 0.8414 - val_loss: 0.0019 - val_accuracy: 0.8553\n",
            "Epoch 22/100\n",
            "165/165 [==============================] - 1s 4ms/step - loss: 0.0019 - accuracy: 0.8499 - val_loss: 0.0019 - val_accuracy: 0.8538\n",
            "Epoch 23/100\n",
            "165/165 [==============================] - 1s 4ms/step - loss: 0.0020 - accuracy: 0.8466 - val_loss: 0.0018 - val_accuracy: 0.8553\n",
            "Epoch 24/100\n",
            "165/165 [==============================] - 1s 4ms/step - loss: 0.0019 - accuracy: 0.8575 - val_loss: 0.0018 - val_accuracy: 0.8689\n",
            "Epoch 25/100\n",
            "165/165 [==============================] - 1s 4ms/step - loss: 0.0019 - accuracy: 0.8619 - val_loss: 0.0018 - val_accuracy: 0.8682\n",
            "Epoch 26/100\n",
            "165/165 [==============================] - 1s 4ms/step - loss: 0.0019 - accuracy: 0.8553 - val_loss: 0.0017 - val_accuracy: 0.8682\n",
            "Epoch 27/100\n",
            "165/165 [==============================] - 1s 4ms/step - loss: 0.0018 - accuracy: 0.8623 - val_loss: 0.0017 - val_accuracy: 0.8712\n",
            "Epoch 28/100\n",
            "165/165 [==============================] - 1s 4ms/step - loss: 0.0017 - accuracy: 0.8758 - val_loss: 0.0017 - val_accuracy: 0.8788\n",
            "Epoch 29/100\n",
            "165/165 [==============================] - 1s 4ms/step - loss: 0.0017 - accuracy: 0.8766 - val_loss: 0.0016 - val_accuracy: 0.8803\n",
            "Epoch 30/100\n",
            "165/165 [==============================] - 1s 4ms/step - loss: 0.0017 - accuracy: 0.8776 - val_loss: 0.0016 - val_accuracy: 0.8848\n",
            "Epoch 31/100\n",
            "165/165 [==============================] - 1s 4ms/step - loss: 0.0016 - accuracy: 0.8865 - val_loss: 0.0015 - val_accuracy: 0.8856\n",
            "Epoch 32/100\n",
            "165/165 [==============================] - 1s 4ms/step - loss: 0.0016 - accuracy: 0.8829 - val_loss: 0.0015 - val_accuracy: 0.8894\n",
            "Epoch 33/100\n",
            "165/165 [==============================] - 1s 4ms/step - loss: 0.0016 - accuracy: 0.8828 - val_loss: 0.0015 - val_accuracy: 0.8841\n",
            "Epoch 34/100\n",
            "165/165 [==============================] - 1s 4ms/step - loss: 0.0016 - accuracy: 0.8859 - val_loss: 0.0015 - val_accuracy: 0.8879\n",
            "Epoch 35/100\n",
            "165/165 [==============================] - 1s 4ms/step - loss: 0.0015 - accuracy: 0.8885 - val_loss: 0.0014 - val_accuracy: 0.8924\n",
            "Epoch 36/100\n",
            "165/165 [==============================] - 1s 4ms/step - loss: 0.0014 - accuracy: 0.9000 - val_loss: 0.0014 - val_accuracy: 0.8977\n",
            "Epoch 37/100\n",
            "165/165 [==============================] - 1s 4ms/step - loss: 0.0014 - accuracy: 0.8973 - val_loss: 0.0014 - val_accuracy: 0.8977\n",
            "Epoch 38/100\n",
            "165/165 [==============================] - 1s 4ms/step - loss: 0.0013 - accuracy: 0.9086 - val_loss: 0.0013 - val_accuracy: 0.9008\n",
            "Epoch 39/100\n",
            "165/165 [==============================] - 1s 4ms/step - loss: 0.0013 - accuracy: 0.9055 - val_loss: 0.0013 - val_accuracy: 0.9030\n",
            "Epoch 40/100\n",
            "165/165 [==============================] - 1s 4ms/step - loss: 0.0013 - accuracy: 0.9094 - val_loss: 0.0012 - val_accuracy: 0.9083\n",
            "Epoch 41/100\n",
            "165/165 [==============================] - 1s 4ms/step - loss: 0.0012 - accuracy: 0.9084 - val_loss: 0.0012 - val_accuracy: 0.9083\n",
            "Epoch 42/100\n",
            "165/165 [==============================] - 1s 4ms/step - loss: 0.0011 - accuracy: 0.9170 - val_loss: 0.0012 - val_accuracy: 0.9136\n",
            "Epoch 43/100\n",
            "165/165 [==============================] - 1s 4ms/step - loss: 0.0011 - accuracy: 0.9236 - val_loss: 0.0012 - val_accuracy: 0.9129\n",
            "Epoch 44/100\n",
            "165/165 [==============================] - 1s 4ms/step - loss: 0.0011 - accuracy: 0.9265 - val_loss: 0.0011 - val_accuracy: 0.9174\n",
            "Epoch 45/100\n",
            "165/165 [==============================] - 1s 4ms/step - loss: 9.8848e-04 - accuracy: 0.9361 - val_loss: 0.0011 - val_accuracy: 0.9159\n",
            "Epoch 46/100\n",
            "165/165 [==============================] - 1s 4ms/step - loss: 0.0010 - accuracy: 0.9277 - val_loss: 0.0010 - val_accuracy: 0.9227\n",
            "Epoch 47/100\n",
            "165/165 [==============================] - 1s 4ms/step - loss: 9.9106e-04 - accuracy: 0.9346 - val_loss: 0.0010 - val_accuracy: 0.9182\n",
            "Epoch 48/100\n",
            "165/165 [==============================] - 1s 4ms/step - loss: 9.1232e-04 - accuracy: 0.9377 - val_loss: 0.0010 - val_accuracy: 0.9220\n",
            "Epoch 49/100\n",
            "165/165 [==============================] - 1s 4ms/step - loss: 9.2974e-04 - accuracy: 0.9356 - val_loss: 9.7649e-04 - val_accuracy: 0.9273\n",
            "Epoch 50/100\n",
            "165/165 [==============================] - 1s 4ms/step - loss: 8.4191e-04 - accuracy: 0.9427 - val_loss: 9.6001e-04 - val_accuracy: 0.9265\n",
            "Epoch 51/100\n",
            "165/165 [==============================] - 1s 4ms/step - loss: 8.5686e-04 - accuracy: 0.9413 - val_loss: 9.6674e-04 - val_accuracy: 0.9265\n",
            "Epoch 52/100\n",
            "165/165 [==============================] - 1s 4ms/step - loss: 8.2001e-04 - accuracy: 0.9444 - val_loss: 9.3588e-04 - val_accuracy: 0.9295\n",
            "Epoch 53/100\n",
            "165/165 [==============================] - 1s 4ms/step - loss: 8.4463e-04 - accuracy: 0.9430 - val_loss: 9.1081e-04 - val_accuracy: 0.9318\n",
            "Epoch 54/100\n",
            "165/165 [==============================] - 1s 4ms/step - loss: 8.0122e-04 - accuracy: 0.9474 - val_loss: 8.9852e-04 - val_accuracy: 0.9295\n",
            "Epoch 55/100\n",
            "165/165 [==============================] - 1s 4ms/step - loss: 8.3078e-04 - accuracy: 0.9441 - val_loss: 8.8289e-04 - val_accuracy: 0.9280\n",
            "Epoch 56/100\n",
            "165/165 [==============================] - 1s 4ms/step - loss: 7.7370e-04 - accuracy: 0.9445 - val_loss: 8.9849e-04 - val_accuracy: 0.9311\n",
            "Epoch 57/100\n",
            "165/165 [==============================] - 1s 4ms/step - loss: 7.2748e-04 - accuracy: 0.9497 - val_loss: 8.5058e-04 - val_accuracy: 0.9348\n",
            "Epoch 58/100\n",
            "165/165 [==============================] - 1s 5ms/step - loss: 7.3976e-04 - accuracy: 0.9463 - val_loss: 8.4078e-04 - val_accuracy: 0.9348\n",
            "Epoch 59/100\n",
            "165/165 [==============================] - 1s 4ms/step - loss: 7.5930e-04 - accuracy: 0.9475 - val_loss: 8.3106e-04 - val_accuracy: 0.9311\n",
            "Epoch 60/100\n",
            "165/165 [==============================] - 1s 4ms/step - loss: 6.6475e-04 - accuracy: 0.9533 - val_loss: 8.3512e-04 - val_accuracy: 0.9371\n",
            "Epoch 61/100\n",
            "165/165 [==============================] - 1s 4ms/step - loss: 6.9521e-04 - accuracy: 0.9492 - val_loss: 8.9164e-04 - val_accuracy: 0.9348\n",
            "Epoch 62/100\n",
            "165/165 [==============================] - 1s 4ms/step - loss: 7.6150e-04 - accuracy: 0.9445 - val_loss: 7.9794e-04 - val_accuracy: 0.9379\n",
            "Epoch 63/100\n",
            "165/165 [==============================] - 1s 4ms/step - loss: 6.8642e-04 - accuracy: 0.9457 - val_loss: 7.8097e-04 - val_accuracy: 0.9417\n",
            "Epoch 64/100\n",
            "165/165 [==============================] - 1s 5ms/step - loss: 6.2266e-04 - accuracy: 0.9538 - val_loss: 7.8541e-04 - val_accuracy: 0.9379\n",
            "Epoch 65/100\n",
            "165/165 [==============================] - 1s 4ms/step - loss: 6.5457e-04 - accuracy: 0.9504 - val_loss: 7.5636e-04 - val_accuracy: 0.9432\n",
            "Epoch 66/100\n",
            "165/165 [==============================] - 1s 4ms/step - loss: 6.0811e-04 - accuracy: 0.9590 - val_loss: 7.4017e-04 - val_accuracy: 0.9432\n",
            "Epoch 67/100\n",
            "165/165 [==============================] - 1s 4ms/step - loss: 6.1214e-04 - accuracy: 0.9575 - val_loss: 8.5319e-04 - val_accuracy: 0.9341\n",
            "Epoch 68/100\n",
            "165/165 [==============================] - 1s 4ms/step - loss: 6.7402e-04 - accuracy: 0.9516 - val_loss: 7.4035e-04 - val_accuracy: 0.9417\n",
            "Epoch 69/100\n",
            "165/165 [==============================] - 1s 4ms/step - loss: 5.8983e-04 - accuracy: 0.9559 - val_loss: 7.5654e-04 - val_accuracy: 0.9424\n",
            "Epoch 70/100\n",
            "165/165 [==============================] - 1s 4ms/step - loss: 5.7603e-04 - accuracy: 0.9593 - val_loss: 7.2052e-04 - val_accuracy: 0.9470\n",
            "Epoch 71/100\n",
            "165/165 [==============================] - 1s 4ms/step - loss: 5.3842e-04 - accuracy: 0.9595 - val_loss: 7.0088e-04 - val_accuracy: 0.9492\n",
            "Epoch 72/100\n",
            "165/165 [==============================] - 1s 4ms/step - loss: 5.7108e-04 - accuracy: 0.9590 - val_loss: 6.9576e-04 - val_accuracy: 0.9417\n",
            "Epoch 73/100\n",
            "165/165 [==============================] - 1s 4ms/step - loss: 4.8403e-04 - accuracy: 0.9659 - val_loss: 6.8414e-04 - val_accuracy: 0.9492\n",
            "Epoch 74/100\n",
            "165/165 [==============================] - 1s 4ms/step - loss: 5.6089e-04 - accuracy: 0.9617 - val_loss: 7.6568e-04 - val_accuracy: 0.9477\n",
            "Epoch 75/100\n",
            "165/165 [==============================] - 1s 4ms/step - loss: 5.6615e-04 - accuracy: 0.9582 - val_loss: 6.9197e-04 - val_accuracy: 0.9515\n",
            "Epoch 76/100\n",
            "165/165 [==============================] - 1s 4ms/step - loss: 5.3729e-04 - accuracy: 0.9614 - val_loss: 6.4070e-04 - val_accuracy: 0.9568\n",
            "Epoch 77/100\n",
            "165/165 [==============================] - 1s 4ms/step - loss: 5.3042e-04 - accuracy: 0.9647 - val_loss: 6.5363e-04 - val_accuracy: 0.9576\n",
            "Epoch 78/100\n",
            "165/165 [==============================] - 1s 4ms/step - loss: 5.5444e-04 - accuracy: 0.9609 - val_loss: 6.3188e-04 - val_accuracy: 0.9530\n",
            "Epoch 79/100\n",
            "165/165 [==============================] - 1s 4ms/step - loss: 4.9744e-04 - accuracy: 0.9654 - val_loss: 5.9667e-04 - val_accuracy: 0.9583\n",
            "Epoch 80/100\n",
            "165/165 [==============================] - 1s 4ms/step - loss: 5.1050e-04 - accuracy: 0.9638 - val_loss: 6.1995e-04 - val_accuracy: 0.9576\n",
            "Epoch 81/100\n",
            "165/165 [==============================] - 1s 4ms/step - loss: 4.6901e-04 - accuracy: 0.9674 - val_loss: 6.0773e-04 - val_accuracy: 0.9583\n",
            "Epoch 82/100\n",
            "165/165 [==============================] - 1s 4ms/step - loss: 5.1370e-04 - accuracy: 0.9607 - val_loss: 5.6911e-04 - val_accuracy: 0.9614\n",
            "Epoch 83/100\n",
            "165/165 [==============================] - 1s 4ms/step - loss: 4.6607e-04 - accuracy: 0.9684 - val_loss: 5.7670e-04 - val_accuracy: 0.9598\n",
            "Epoch 84/100\n",
            "165/165 [==============================] - 1s 4ms/step - loss: 4.8236e-04 - accuracy: 0.9669 - val_loss: 5.7697e-04 - val_accuracy: 0.9606\n",
            "Epoch 85/100\n",
            "165/165 [==============================] - 1s 4ms/step - loss: 4.1810e-04 - accuracy: 0.9691 - val_loss: 6.0163e-04 - val_accuracy: 0.9629\n",
            "Epoch 86/100\n",
            "165/165 [==============================] - 1s 4ms/step - loss: 5.1017e-04 - accuracy: 0.9655 - val_loss: 6.3784e-04 - val_accuracy: 0.9568\n",
            "Epoch 87/100\n",
            "165/165 [==============================] - 1s 4ms/step - loss: 4.2450e-04 - accuracy: 0.9707 - val_loss: 5.5804e-04 - val_accuracy: 0.9652\n",
            "Epoch 88/100\n",
            "165/165 [==============================] - 1s 4ms/step - loss: 4.3032e-04 - accuracy: 0.9695 - val_loss: 5.5453e-04 - val_accuracy: 0.9652\n",
            "Epoch 89/100\n",
            "165/165 [==============================] - 1s 4ms/step - loss: 4.3098e-04 - accuracy: 0.9723 - val_loss: 5.9133e-04 - val_accuracy: 0.9614\n",
            "Epoch 90/100\n",
            "165/165 [==============================] - 1s 4ms/step - loss: 4.3376e-04 - accuracy: 0.9709 - val_loss: 5.7052e-04 - val_accuracy: 0.9614\n",
            "Epoch 91/100\n",
            "165/165 [==============================] - 1s 4ms/step - loss: 5.0986e-04 - accuracy: 0.9663 - val_loss: 5.7914e-04 - val_accuracy: 0.9614\n",
            "Epoch 92/100\n",
            "165/165 [==============================] - 1s 4ms/step - loss: 4.5341e-04 - accuracy: 0.9678 - val_loss: 5.6722e-04 - val_accuracy: 0.9644\n",
            "Epoch 93/100\n",
            "165/165 [==============================] - 1s 4ms/step - loss: 4.3542e-04 - accuracy: 0.9679 - val_loss: 5.5177e-04 - val_accuracy: 0.9629\n",
            "Epoch 94/100\n",
            "165/165 [==============================] - 1s 4ms/step - loss: 4.0385e-04 - accuracy: 0.9729 - val_loss: 5.2177e-04 - val_accuracy: 0.9636\n",
            "Epoch 95/100\n",
            "165/165 [==============================] - 1s 4ms/step - loss: 4.0223e-04 - accuracy: 0.9711 - val_loss: 5.1368e-04 - val_accuracy: 0.9636\n",
            "Epoch 96/100\n",
            "165/165 [==============================] - 1s 4ms/step - loss: 3.6496e-04 - accuracy: 0.9738 - val_loss: 5.0438e-04 - val_accuracy: 0.9674\n",
            "Epoch 97/100\n",
            "165/165 [==============================] - 1s 4ms/step - loss: 3.6730e-04 - accuracy: 0.9725 - val_loss: 5.1902e-04 - val_accuracy: 0.9667\n",
            "Epoch 98/100\n",
            "165/165 [==============================] - 1s 4ms/step - loss: 3.7433e-04 - accuracy: 0.9736 - val_loss: 5.2651e-04 - val_accuracy: 0.9667\n",
            "Epoch 99/100\n",
            "165/165 [==============================] - 1s 4ms/step - loss: 4.3564e-04 - accuracy: 0.9687 - val_loss: 5.0278e-04 - val_accuracy: 0.9659\n",
            "Epoch 100/100\n",
            "165/165 [==============================] - 1s 4ms/step - loss: 3.7479e-04 - accuracy: 0.9746 - val_loss: 5.2846e-04 - val_accuracy: 0.9644\n"
          ],
          "name": "stdout"
        }
      ]
    },
    {
      "cell_type": "code",
      "metadata": {
        "id": "TUTzL1YR1vyK"
      },
      "source": [
        "train_accuracy = model.history.history['accuracy']\r\n",
        "validation_accuracy = model.history.history['val_accuracy']\r\n",
        "\r\n",
        "train_loss = model.history.history['loss']\r\n",
        "validation_loss = model.history.history['val_loss']"
      ],
      "execution_count": 40,
      "outputs": []
    },
    {
      "cell_type": "code",
      "metadata": {
        "colab": {
          "base_uri": "https://localhost:8080/",
          "height": 265
        },
        "id": "XUh--sCS20XV",
        "outputId": "efb51544-ffaa-409e-df97-87547e26e3f7"
      },
      "source": [
        "plt.plot(train_accuracy, label = \"training_accuracy\")\r\n",
        "plt.plot(validation_accuracy, label = \"validation_accuracy\")\r\n",
        "plt.legend()\r\n",
        "plt.show()"
      ],
      "execution_count": 41,
      "outputs": [
        {
          "output_type": "display_data",
          "data": {
            "image/png": "[encoded data removed]",
            "text/plain": [
              "<Figure size 432x288 with 1 Axes>"
            ]
          },
          "metadata": {
            "tags": [],
            "needs_background": "light"
          }
        }
      ]
    },
    {
      "cell_type": "code",
      "metadata": {
        "colab": {
          "base_uri": "https://localhost:8080/",
          "height": 265
        },
        "id": "zezzh6uN3Ryo",
        "outputId": "a84d2168-e322-4255-a430-11a2991eef68"
      },
      "source": [
        "plt.plot(train_loss, label = \"training_loss\")\r\n",
        "plt.plot(validation_loss, label = \"validation_loss\")\r\n",
        "plt.legend()\r\n",
        "plt.show()"
      ],
      "execution_count": 42,
      "outputs": [
        {
          "output_type": "display_data",
          "data": {
            "image/png": "[encoded data removed]",
            "text/plain": [
              "<Figure size 432x288 with 1 Axes>"
            ]
          },
          "metadata": {
            "tags": [],
            "needs_background": "light"
          }
        }
      ]
    },
    {
      "cell_type": "markdown",
      "metadata": {
        "id": "rKJHNFRZ31fH"
      },
      "source": [
        "Testing model metrics"
      ]
    },
    {
      "cell_type": "code",
      "metadata": {
        "colab": {
          "base_uri": "https://localhost:8080/"
        },
        "id": "PgKOEILU37I_",
        "outputId": "1c142902-706d-4730-b245-df68edbb9434"
      },
      "source": [
        "model.summary()"
      ],
      "execution_count": 43,
      "outputs": [
        {
          "output_type": "stream",
          "text": [
            "Model: \"sequential\"\n",
            "_________________________________________________________________\n",
            "Layer (type)                 Output Shape              Param #   \n",
            "=================================================================\n",
            "dense (Dense)                (None, 300)               50100     \n",
            "_________________________________________________________________\n",
            "dense_1 (Dense)              (None, 200)               60200     \n",
            "_________________________________________________________________\n",
            "dense_2 (Dense)              (None, 102)               20502     \n",
            "=================================================================\n",
            "Total params: 130,802\n",
            "Trainable params: 130,802\n",
            "Non-trainable params: 0\n",
            "_________________________________________________________________\n"
          ],
          "name": "stdout"
        }
      ]
    },
    {
      "cell_type": "code",
      "metadata": {
        "id": "34KBbe6V4XNH"
      },
      "source": [
        "y_test_model = model.predict(X_test)"
      ],
      "execution_count": 44,
      "outputs": []
    },
    {
      "cell_type": "code",
      "metadata": {
        "id": "L9voocoP4-SB"
      },
      "source": [
        "y_test_model_i = []\r\n",
        "Y_test_i = []\r\n",
        "for i in range(len(Y_test)):\r\n",
        "  y_test_model_i.append(np.argmax(y_test_model[i]))\r\n",
        "  Y_test_i.append(np.argmax(Y_test[i]))\r\n",
        "  "
      ],
      "execution_count": 45,
      "outputs": []
    },
    {
      "cell_type": "code",
      "metadata": {
        "id": "rwPY6cOq5oXg"
      },
      "source": [
        "y_test_model_i = np.array(y_test_model_i)\r\n",
        "Y_test_i = np.array(Y_test_i)"
      ],
      "execution_count": 46,
      "outputs": []
    },
    {
      "cell_type": "code",
      "metadata": {
        "colab": {
          "base_uri": "https://localhost:8080/"
        },
        "id": "GJu3KYwK52Zc",
        "outputId": "8543eb1a-92ad-487d-bf62-89e9f508f82d"
      },
      "source": [
        "print(\"Accuracy = \")\r\n",
        "sum((y_test_model_i == Y_test_i).astype(int)/len(Y_test_i))\r\n"
      ],
      "execution_count": 47,
      "outputs": [
        {
          "output_type": "stream",
          "text": [
            "Accuracy = \n"
          ],
          "name": "stdout"
        },
        {
          "output_type": "execute_result",
          "data": {
            "text/plain": [
              "0.9643939393939189"
            ]
          },
          "metadata": {
            "tags": []
          },
          "execution_count": 47
        }
      ]
    },
    {
      "cell_type": "code",
      "metadata": {
        "id": "1Py61pbu6S5h"
      },
      "source": [
        "from sklearn.metrics import classification_report, confusion_matrix"
      ],
      "execution_count": 48,
      "outputs": []
    },
    {
      "cell_type": "code",
      "metadata": {
        "colab": {
          "base_uri": "https://localhost:8080/"
        },
        "id": "BNWfEefD6fza",
        "outputId": "3445f828-724c-4adf-b43a-f7366cb26a5e"
      },
      "source": [
        "print(classification_report(Y_test_i,y_test_model_i))"
      ],
      "execution_count": 49,
      "outputs": [
        {
          "output_type": "stream",
          "text": [
            "              precision    recall  f1-score   support\n",
            "\n",
            "           0       1.00      1.00      1.00         1\n",
            "           1       1.00      1.00      1.00         6\n",
            "           2       1.00      1.00      1.00        12\n",
            "           3       1.00      1.00      1.00         7\n",
            "           4       1.00      1.00      1.00        15\n",
            "           5       1.00      1.00      1.00        44\n",
            "           6       1.00      1.00      1.00         1\n",
            "           8       1.00      1.00      1.00         6\n",
            "           9       0.00      0.00      0.00         1\n",
            "          10       0.87      1.00      0.93        13\n",
            "          11       1.00      1.00      1.00         7\n",
            "          12       1.00      1.00      1.00         3\n",
            "          13       1.00      1.00      1.00         3\n",
            "          14       1.00      1.00      1.00        13\n",
            "          15       1.00      1.00      1.00         1\n",
            "          16       0.00      0.00      0.00         1\n",
            "          18       1.00      1.00      1.00         4\n",
            "          21       1.00      1.00      1.00         2\n",
            "          22       0.75      1.00      0.86         3\n",
            "          24       1.00      1.00      1.00         2\n",
            "          25       0.00      0.00      0.00         0\n",
            "          26       1.00      1.00      1.00         9\n",
            "          27       1.00      1.00      1.00        12\n",
            "          29       1.00      1.00      1.00         4\n",
            "          30       0.00      0.00      0.00         1\n",
            "          31       0.00      0.00      0.00         2\n",
            "          32       0.00      0.00      0.00         1\n",
            "          33       0.83      1.00      0.91         5\n",
            "          34       0.33      0.20      0.25         5\n",
            "          35       0.30      0.60      0.40         5\n",
            "          36       0.00      0.00      0.00         0\n",
            "          37       1.00      1.00      1.00         4\n",
            "          38       0.00      0.00      0.00         3\n",
            "          39       1.00      1.00      1.00        51\n",
            "          40       1.00      1.00      1.00        43\n",
            "          41       1.00      1.00      1.00         2\n",
            "          42       0.00      0.00      0.00         2\n",
            "          43       1.00      1.00      1.00         6\n",
            "          44       0.00      0.00      0.00         5\n",
            "          45       1.00      1.00      1.00         1\n",
            "          46       1.00      1.00      1.00        27\n",
            "          47       0.23      1.00      0.38         7\n",
            "          48       0.00      0.00      0.00         1\n",
            "          49       1.00      0.90      0.95        10\n",
            "          50       1.00      1.00      1.00        23\n",
            "          51       1.00      1.00      1.00         6\n",
            "          52       1.00      1.00      1.00         3\n",
            "          53       1.00      1.00      1.00        22\n",
            "          54       1.00      1.00      1.00       218\n",
            "          56       1.00      1.00      1.00        21\n",
            "          57       0.00      0.00      0.00         1\n",
            "          58       1.00      1.00      1.00         9\n",
            "          59       1.00      1.00      1.00        64\n",
            "          60       0.00      0.00      0.00         5\n",
            "          61       0.00      0.00      0.00         1\n",
            "          62       0.00      0.00      0.00         1\n",
            "          63       0.00      0.00      0.00         2\n",
            "          64       1.00      1.00      1.00         1\n",
            "          66       0.00      0.00      0.00         1\n",
            "          68       0.00      0.00      0.00         1\n",
            "          69       1.00      1.00      1.00         2\n",
            "          70       1.00      1.00      1.00         1\n",
            "          71       1.00      1.00      1.00        35\n",
            "          72       1.00      1.00      1.00         3\n",
            "          73       1.00      1.00      1.00         2\n",
            "          74       0.50      1.00      0.67         1\n",
            "          75       0.00      0.00      0.00         2\n",
            "          78       1.00      1.00      1.00         1\n",
            "          79       1.00      1.00      1.00         4\n",
            "          80       1.00      1.00      1.00         2\n",
            "          81       1.00      1.00      1.00        75\n",
            "          82       1.00      1.00      1.00         2\n",
            "          83       1.00      1.00      1.00         1\n",
            "          84       1.00      1.00      1.00         3\n",
            "          85       0.75      0.92      0.83        13\n",
            "          86       1.00      1.00      1.00         5\n",
            "          87       1.00      1.00      1.00         1\n",
            "          89       1.00      1.00      1.00       214\n",
            "          90       1.00      1.00      1.00       202\n",
            "          91       0.00      0.00      0.00         5\n",
            "          94       0.00      0.00      0.00         1\n",
            "          95       1.00      0.67      0.80         6\n",
            "         101       1.00      1.00      1.00         9\n",
            "\n",
            "    accuracy                           0.96      1320\n",
            "   macro avg       0.71      0.73      0.71      1320\n",
            "weighted avg       0.96      0.96      0.96      1320\n",
            "\n"
          ],
          "name": "stdout"
        },
        {
          "output_type": "stream",
          "text": [
            "/usr/local/lib/python3.7/dist-packages/sklearn/metrics/_classification.py:1272: UndefinedMetricWarning: Precision and F-score are ill-defined and being set to 0.0 in labels with no predicted samples. Use `zero_division` parameter to control this behavior.\n",
            "  _warn_prf(average, modifier, msg_start, len(result))\n",
            "/usr/local/lib/python3.7/dist-packages/sklearn/metrics/_classification.py:1272: UndefinedMetricWarning: Recall and F-score are ill-defined and being set to 0.0 in labels with no true samples. Use `zero_division` parameter to control this behavior.\n",
            "  _warn_prf(average, modifier, msg_start, len(result))\n"
          ],
          "name": "stderr"
        }
      ]
    },
    {
      "cell_type": "code",
      "metadata": {
        "id": "OisYQvQI6qaA"
      },
      "source": [
        "con_matrix = confusion_matrix(Y_test_i, y_test_model_i)"
      ],
      "execution_count": 51,
      "outputs": []
    },
    {
      "cell_type": "code",
      "metadata": {
        "colab": {
          "base_uri": "https://localhost:8080/",
          "height": 607
        },
        "id": "G4qNYyIs7OCE",
        "outputId": "e4b8393d-3cb8-4adc-aa56-49ca0cfa3c0c"
      },
      "source": [
        "plt.figure(figsize=(10,10))\r\n",
        "plt.title(\"confusion Matrix\")\r\n",
        "plt.imshow(con_matrix, cmap= 'Paired', interpolation= 'nearest')\r\n",
        "plt.show()"
      ],
      "execution_count": 52,
      "outputs": [
        {
          "output_type": "display_data",
          "data": {
            "image/png": "[encoded data removed]",
            "text/plain": [
              "<Figure size 720x720 with 1 Axes>"
            ]
          },
          "metadata": {
            "tags": [],
            "needs_background": "light"
          }
        }
      ]
    },
    {
      "cell_type": "code",
      "metadata": {
        "id": "j13Fo1iK7yCC"
      },
      "source": [
        ""
      ],
      "execution_count": null,
      "outputs": []
    },
    {
      "cell_type": "markdown",
      "metadata": {
        "id": "b1H_JM6u73Hv"
      },
      "source": [
        "Now, using Binary classification to finally classify as Musk or Non-Musk"
      ]
    },
    {
      "cell_type": "code",
      "metadata": {
        "id": "GUvGgMp97_we"
      },
      "source": [
        "Y1 = data.iloc[:, -1].values"
      ],
      "execution_count": 54,
      "outputs": []
    },
    {
      "cell_type": "code",
      "metadata": {
        "colab": {
          "base_uri": "https://localhost:8080/"
        },
        "id": "t-EaGwG88LN-",
        "outputId": "0cda74dc-1bf9-45fa-a679-33bdd7a25e85"
      },
      "source": [
        "Y1.shape"
      ],
      "execution_count": 55,
      "outputs": [
        {
          "output_type": "execute_result",
          "data": {
            "text/plain": [
              "(6598,)"
            ]
          },
          "metadata": {
            "tags": []
          },
          "execution_count": 55
        }
      ]
    },
    {
      "cell_type": "code",
      "metadata": {
        "id": "gSF5Kbky8R1z"
      },
      "source": [
        "tranfer_model = model"
      ],
      "execution_count": 56,
      "outputs": []
    },
    {
      "cell_type": "code",
      "metadata": {
        "colab": {
          "base_uri": "https://localhost:8080/"
        },
        "id": "jCl8CTin8bVr",
        "outputId": "a5511578-6e8d-4106-cb1c-b2ed21a91fa0"
      },
      "source": [
        "tranfer_model.summary()"
      ],
      "execution_count": 58,
      "outputs": [
        {
          "output_type": "stream",
          "text": [
            "Model: \"sequential\"\n",
            "_________________________________________________________________\n",
            "Layer (type)                 Output Shape              Param #   \n",
            "=================================================================\n",
            "dense (Dense)                (None, 300)               50100     \n",
            "_________________________________________________________________\n",
            "dense_1 (Dense)              (None, 200)               60200     \n",
            "_________________________________________________________________\n",
            "dense_2 (Dense)              (None, 102)               20502     \n",
            "=================================================================\n",
            "Total params: 130,802\n",
            "Trainable params: 130,802\n",
            "Non-trainable params: 0\n",
            "_________________________________________________________________\n"
          ],
          "name": "stdout"
        }
      ]
    },
    {
      "cell_type": "code",
      "metadata": {
        "id": "7vt3YclG8eNZ"
      },
      "source": [
        "\r\n",
        "tranfer_model.add(Dense(50, activation='relu'))\r\n",
        "tranfer_model.add(Dense(1, activation='sigmoid'))\r\n",
        "tranfer_model.compile(optimizer='adam', loss= 'mse', metrics=['accuracy'])"
      ],
      "execution_count": 59,
      "outputs": []
    },
    {
      "cell_type": "code",
      "metadata": {
        "colab": {
          "base_uri": "https://localhost:8080/"
        },
        "id": "41jCxmZ39nHr",
        "outputId": "c3c0bdf2-c3b4-49bf-9e73-04d27ceb32b0"
      },
      "source": [
        "tranfer_model.summary()"
      ],
      "execution_count": 60,
      "outputs": [
        {
          "output_type": "stream",
          "text": [
            "Model: \"sequential\"\n",
            "_________________________________________________________________\n",
            "Layer (type)                 Output Shape              Param #   \n",
            "=================================================================\n",
            "dense (Dense)                (None, 300)               50100     \n",
            "_________________________________________________________________\n",
            "dense_1 (Dense)              (None, 200)               60200     \n",
            "_________________________________________________________________\n",
            "dense_2 (Dense)              (None, 102)               20502     \n",
            "_________________________________________________________________\n",
            "dense_3 (Dense)              (None, 50)                5150      \n",
            "_________________________________________________________________\n",
            "dense_4 (Dense)              (None, 1)                 51        \n",
            "=================================================================\n",
            "Total params: 136,003\n",
            "Trainable params: 136,003\n",
            "Non-trainable params: 0\n",
            "_________________________________________________________________\n"
          ],
          "name": "stdout"
        }
      ]
    },
    {
      "cell_type": "code",
      "metadata": {
        "id": "VkCZ-VKT9pv0"
      },
      "source": [
        "X_train1, X_test1, Y_train1, Y_test1 = train_test_split(X, Y1, train_size = 0.8, test_size = 0.2)"
      ],
      "execution_count": 61,
      "outputs": []
    },
    {
      "cell_type": "code",
      "metadata": {
        "colab": {
          "base_uri": "https://localhost:8080/",
          "height": 880
        },
        "id": "71lpoYQJ94SC",
        "outputId": "c0fc1e1c-1f84-4e32-be1d-4cc736564f22"
      },
      "source": [
        "tranfer_model.fit(X_train1, Y_train1, verbose=1, validation_data=(X_test1, Y_test1), epochs=20)\r\n"
      ],
      "execution_count": 62,
      "outputs": [
        {
          "output_type": "stream",
          "text": [
            "Epoch 1/20\n",
            "165/165 [==============================] - 1s 4ms/step - loss: 0.1596 - accuracy: 0.8615 - val_loss: 0.0308 - val_accuracy: 0.9583\n",
            "Epoch 2/20\n",
            "165/165 [==============================] - 1s 4ms/step - loss: 0.0242 - accuracy: 0.9646 - val_loss: 0.0168 - val_accuracy: 0.9773\n",
            "Epoch 3/20\n",
            "165/165 [==============================] - 1s 4ms/step - loss: 0.0124 - accuracy: 0.9840 - val_loss: 0.0072 - val_accuracy: 0.9955\n",
            "Epoch 4/20\n",
            "165/165 [==============================] - 1s 3ms/step - loss: 0.0058 - accuracy: 0.9947 - val_loss: 0.0044 - val_accuracy: 0.9970\n",
            "Epoch 5/20\n",
            "165/165 [==============================] - 1s 4ms/step - loss: 0.0021 - accuracy: 0.9988 - val_loss: 0.0032 - val_accuracy: 0.9962\n",
            "Epoch 6/20\n",
            "165/165 [==============================] - 1s 4ms/step - loss: 0.0016 - accuracy: 0.9987 - val_loss: 0.0026 - val_accuracy: 0.9970\n",
            "Epoch 7/20\n",
            "165/165 [==============================] - 1s 4ms/step - loss: 0.0017 - accuracy: 0.9983 - val_loss: 0.0028 - val_accuracy: 0.9970\n",
            "Epoch 8/20\n",
            "165/165 [==============================] - 1s 3ms/step - loss: 9.6775e-04 - accuracy: 0.9991 - val_loss: 0.0027 - val_accuracy: 0.9970\n",
            "Epoch 9/20\n",
            "165/165 [==============================] - 1s 3ms/step - loss: 8.6372e-04 - accuracy: 0.9992 - val_loss: 0.0037 - val_accuracy: 0.9955\n",
            "Epoch 10/20\n",
            "165/165 [==============================] - 1s 4ms/step - loss: 0.0059 - accuracy: 0.9937 - val_loss: 0.0026 - val_accuracy: 0.9977\n",
            "Epoch 11/20\n",
            "165/165 [==============================] - 1s 3ms/step - loss: 0.0034 - accuracy: 0.9957 - val_loss: 0.0238 - val_accuracy: 0.9697\n",
            "Epoch 12/20\n",
            "165/165 [==============================] - 1s 4ms/step - loss: 0.0104 - accuracy: 0.9874 - val_loss: 0.0051 - val_accuracy: 0.9932\n",
            "Epoch 13/20\n",
            "165/165 [==============================] - 1s 4ms/step - loss: 0.0026 - accuracy: 0.9972 - val_loss: 0.0085 - val_accuracy: 0.9894\n",
            "Epoch 14/20\n",
            "165/165 [==============================] - 1s 3ms/step - loss: 0.0014 - accuracy: 0.9987 - val_loss: 0.0028 - val_accuracy: 0.9970\n",
            "Epoch 15/20\n",
            "165/165 [==============================] - 1s 4ms/step - loss: 8.8467e-04 - accuracy: 0.9991 - val_loss: 0.0011 - val_accuracy: 0.9992\n",
            "Epoch 16/20\n",
            "165/165 [==============================] - 1s 3ms/step - loss: 5.6638e-04 - accuracy: 0.9995 - val_loss: 0.0016 - val_accuracy: 0.9970\n",
            "Epoch 17/20\n",
            "165/165 [==============================] - 1s 4ms/step - loss: 2.4086e-04 - accuracy: 0.9998 - val_loss: 0.0019 - val_accuracy: 0.9970\n",
            "Epoch 18/20\n",
            "165/165 [==============================] - 1s 3ms/step - loss: 5.6003e-04 - accuracy: 0.9995 - val_loss: 0.0014 - val_accuracy: 0.9985\n",
            "Epoch 19/20\n",
            "165/165 [==============================] - 1s 4ms/step - loss: 6.9274e-04 - accuracy: 0.9993 - val_loss: 0.0015 - val_accuracy: 0.9970\n",
            "Epoch 20/20\n",
            "165/165 [==============================] - 1s 3ms/step - loss: 4.5621e-04 - accuracy: 0.9996 - val_loss: 0.0015 - val_accuracy: 0.9970\n"
          ],
          "name": "stdout"
        },
        {
          "output_type": "error",
          "ename": "NameError",
          "evalue": "ignored",
          "traceback": [
            "\u001b[0;31m---------------------------------------------------------------------------\u001b[0m",
            "\u001b[0;31mNameError\u001b[0m                                 Traceback (most recent call last)",
            "\u001b[0;32m<ipython-input-62-0328e9244a9e>\u001b[0m in \u001b[0;36m<module>\u001b[0;34m()\u001b[0m\n\u001b[1;32m      1\u001b[0m \u001b[0mtranfer_model\u001b[0m\u001b[0;34m.\u001b[0m\u001b[0mfit\u001b[0m\u001b[0;34m(\u001b[0m\u001b[0mX_train1\u001b[0m\u001b[0;34m,\u001b[0m \u001b[0mY_train1\u001b[0m\u001b[0;34m,\u001b[0m \u001b[0mverbose\u001b[0m\u001b[0;34m=\u001b[0m\u001b[0;36m1\u001b[0m\u001b[0;34m,\u001b[0m \u001b[0mvalidation_data\u001b[0m\u001b[0;34m=\u001b[0m\u001b[0;34m(\u001b[0m\u001b[0mX_test1\u001b[0m\u001b[0;34m,\u001b[0m \u001b[0mY_test1\u001b[0m\u001b[0;34m)\u001b[0m\u001b[0;34m,\u001b[0m \u001b[0mepochs\u001b[0m\u001b[0;34m=\u001b[0m\u001b[0;36m20\u001b[0m\u001b[0;34m)\u001b[0m\u001b[0;34m\u001b[0m\u001b[0;34m\u001b[0m\u001b[0m\n\u001b[0;32m----> 2\u001b[0;31m \u001b[0mtransfer_model\u001b[0m\u001b[0;34m.\u001b[0m\u001b[0msave\u001b[0m\u001b[0;34m(\u001b[0m\u001b[0;34m\"model_musk_added_transfer.h5\"\u001b[0m\u001b[0;34m)\u001b[0m\u001b[0;34m\u001b[0m\u001b[0;34m\u001b[0m\u001b[0m\n\u001b[0m",
            "\u001b[0;31mNameError\u001b[0m: name 'transfer_model' is not defined"
          ]
        }
      ]
    },
    {
      "cell_type": "code",
      "metadata": {
        "id": "idoqmYNc-tRX"
      },
      "source": [
        "tranfer_model.save(\"model_muskAfterTransfer.h5\")"
      ],
      "execution_count": 63,
      "outputs": []
    },
    {
      "cell_type": "code",
      "metadata": {
        "id": "RyxDuOp0-_UO"
      },
      "source": [
        "new_accuracy = tranfer_model.history.history['accuracy']\r\n",
        "new_validation = tranfer_model.history.history['val_accuracy']\r\n",
        "\r\n",
        "new_train_loss = tranfer_model.history.history['loss']\r\n",
        "new_val_loss = tranfer_model.history.history['val_loss']"
      ],
      "execution_count": 64,
      "outputs": []
    },
    {
      "cell_type": "code",
      "metadata": {
        "colab": {
          "base_uri": "https://localhost:8080/",
          "height": 265
        },
        "id": "RfhMvAfY_xYI",
        "outputId": "ccd9df4d-dd16-4c63-8cc6-6f283cebda08"
      },
      "source": [
        "plt.plot(new_accuracy, label = \"training_accuracy\")\r\n",
        "plt.plot(new_validation, label = \"validation_accuracy\")\r\n",
        "plt.legend()\r\n",
        "plt.show()"
      ],
      "execution_count": 65,
      "outputs": [
        {
          "output_type": "display_data",
          "data": {
            "image/png": "[encoded data removed]",
            "text/plain": [
              "<Figure size 432x288 with 1 Axes>"
            ]
          },
          "metadata": {
            "tags": [],
            "needs_background": "light"
          }
        }
      ]
    },
    {
      "cell_type": "code",
      "metadata": {
        "colab": {
          "base_uri": "https://localhost:8080/",
          "height": 265
        },
        "id": "E5Cy-DtyAFcK",
        "outputId": "8ae44089-6cda-433d-d5a4-5b5cb18a6ac1"
      },
      "source": [
        "plt.plot(new_train_loss, label = \"training_loss\")\r\n",
        "plt.plot(new_val_loss, label = \"validation_loss\")\r\n",
        "plt.legend()\r\n",
        "plt.show()"
      ],
      "execution_count": 66,
      "outputs": [
        {
          "output_type": "display_data",
          "data": {
            "image/png": "[encoded data removed]",
            "text/plain": [
              "<Figure size 432x288 with 1 Axes>"
            ]
          },
          "metadata": {
            "tags": [],
            "needs_background": "light"
          }
        }
      ]
    },
    {
      "cell_type": "code",
      "metadata": {
        "id": "iEILnMcNAcRY"
      },
      "source": [
        "new_y = tranfer_model.predict(X_test1)"
      ],
      "execution_count": 67,
      "outputs": []
    },
    {
      "cell_type": "code",
      "metadata": {
        "id": "_Z8ZX4A8A6I-"
      },
      "source": [
        "new_y = (new_y[:]>(0.5)).astype(int).flatten()"
      ],
      "execution_count": 68,
      "outputs": []
    },
    {
      "cell_type": "code",
      "metadata": {
        "colab": {
          "base_uri": "https://localhost:8080/"
        },
        "id": "HV6h-CP_Bgo7",
        "outputId": "57d06615-db76-4193-b333-736fc38d4ec7"
      },
      "source": [
        "print(classification_report(Y_test1, new_y))"
      ],
      "execution_count": 70,
      "outputs": [
        {
          "output_type": "stream",
          "text": [
            "              precision    recall  f1-score   support\n",
            "\n",
            "           0       1.00      1.00      1.00      1109\n",
            "           1       1.00      0.98      0.99       211\n",
            "\n",
            "    accuracy                           1.00      1320\n",
            "   macro avg       1.00      0.99      0.99      1320\n",
            "weighted avg       1.00      1.00      1.00      1320\n",
            "\n"
          ],
          "name": "stdout"
        }
      ]
    },
    {
      "cell_type": "code",
      "metadata": {
        "colab": {
          "base_uri": "https://localhost:8080/"
        },
        "id": "oBdbSwM_CTD9",
        "outputId": "0bf39c3f-5e8e-4a65-d86e-eaa86ad1b510"
      },
      "source": [
        "print(\"Accuracy = \")\r\n",
        "sum(Y_test1 == new_y).astype(int)/len(new_y)"
      ],
      "execution_count": 71,
      "outputs": [
        {
          "output_type": "stream",
          "text": [
            "Accuracy = \n"
          ],
          "name": "stdout"
        },
        {
          "output_type": "execute_result",
          "data": {
            "text/plain": [
              "0.996969696969697"
            ]
          },
          "metadata": {
            "tags": []
          },
          "execution_count": 71
        }
      ]
    },
    {
      "cell_type": "code",
      "metadata": {
        "colab": {
          "base_uri": "https://localhost:8080/"
        },
        "id": "HwbuTfLHCwhj",
        "outputId": "c8ac12d6-d1d7-4c49-9f89-07f1e33576d1"
      },
      "source": [
        "confusion_matrix(Y_test1, new_y)"
      ],
      "execution_count": 72,
      "outputs": [
        {
          "output_type": "execute_result",
          "data": {
            "text/plain": [
              "array([[1109,    0],\n",
              "       [   4,  207]])"
            ]
          },
          "metadata": {
            "tags": []
          },
          "execution_count": 72
        }
      ]
    },
    {
      "cell_type": "code",
      "metadata": {
        "id": "S-UlAztiC5fa"
      },
      "source": [
        ""
      ],
      "execution_count": null,
      "outputs": []
    }
  ]
}